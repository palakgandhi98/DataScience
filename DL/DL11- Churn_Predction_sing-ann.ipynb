{
 "cells": [
  {
   "cell_type": "code",
   "execution_count": 1,
   "id": "92a05f3d",
   "metadata": {
    "_cell_guid": "b1076dfc-b9ad-4769-8c92-a6c4dae69d19",
    "_uuid": "8f2839f25d086af736a60e9eeb907d3b93b6e0e5",
    "execution": {
     "iopub.execute_input": "2023-12-30T16:22:02.935206Z",
     "iopub.status.busy": "2023-12-30T16:22:02.934750Z",
     "iopub.status.idle": "2023-12-30T16:22:03.408686Z",
     "shell.execute_reply": "2023-12-30T16:22:03.407474Z"
    },
    "papermill": {
     "duration": 0.493268,
     "end_time": "2023-12-30T16:22:03.411667",
     "exception": false,
     "start_time": "2023-12-30T16:22:02.918399",
     "status": "completed"
    },
    "tags": []
   },
   "outputs": [
    {
     "name": "stdout",
     "output_type": "stream",
     "text": [
      "/kaggle/input/credit-card-customer-churn-prediction/Churn_Modelling.csv\n"
     ]
    }
   ],
   "source": [
    "# This Python 3 environment comes with many helpful analytics libraries installed\n",
    "# It is defined by the kaggle/python Docker image: https://github.com/kaggle/docker-python\n",
    "# For example, here's several helpful packages to load\n",
    "\n",
    "import numpy as np # linear algebra\n",
    "import pandas as pd # data processing, CSV file I/O (e.g. pd.read_csv)\n",
    "\n",
    "# Input data files are available in the read-only \"../input/\" directory\n",
    "# For example, running this (by clicking run or pressing Shift+Enter) will list all files under the input directory\n",
    "\n",
    "import os\n",
    "for dirname, _, filenames in os.walk('/kaggle/input'):\n",
    "    for filename in filenames:\n",
    "        print(os.path.join(dirname, filename))\n",
    "\n",
    "# You can write up to 20GB to the current directory (/kaggle/working/) that gets preserved as output when you create a version using \"Save & Run All\" \n",
    "# You can also write temporary files to /kaggle/temp/, but they won't be saved outside of the current session"
   ]
  },
  {
   "cell_type": "code",
   "execution_count": 2,
   "id": "778fcc16",
   "metadata": {
    "execution": {
     "iopub.execute_input": "2023-12-30T16:22:03.441841Z",
     "iopub.status.busy": "2023-12-30T16:22:03.441165Z",
     "iopub.status.idle": "2023-12-30T16:22:03.502269Z",
     "shell.execute_reply": "2023-12-30T16:22:03.501015Z"
    },
    "papermill": {
     "duration": 0.079687,
     "end_time": "2023-12-30T16:22:03.505154",
     "exception": false,
     "start_time": "2023-12-30T16:22:03.425467",
     "status": "completed"
    },
    "tags": []
   },
   "outputs": [],
   "source": [
    "df = pd.read_csv('/kaggle/input/credit-card-customer-churn-prediction/Churn_Modelling.csv')"
   ]
  },
  {
   "cell_type": "code",
   "execution_count": 3,
   "id": "c4e44840",
   "metadata": {
    "execution": {
     "iopub.execute_input": "2023-12-30T16:22:03.535626Z",
     "iopub.status.busy": "2023-12-30T16:22:03.535164Z",
     "iopub.status.idle": "2023-12-30T16:22:03.567090Z",
     "shell.execute_reply": "2023-12-30T16:22:03.565700Z"
    },
    "papermill": {
     "duration": 0.050932,
     "end_time": "2023-12-30T16:22:03.569980",
     "exception": false,
     "start_time": "2023-12-30T16:22:03.519048",
     "status": "completed"
    },
    "tags": []
   },
   "outputs": [
    {
     "data": {
      "text/html": [
       "<div>\n",
       "<style scoped>\n",
       "    .dataframe tbody tr th:only-of-type {\n",
       "        vertical-align: middle;\n",
       "    }\n",
       "\n",
       "    .dataframe tbody tr th {\n",
       "        vertical-align: top;\n",
       "    }\n",
       "\n",
       "    .dataframe thead th {\n",
       "        text-align: right;\n",
       "    }\n",
       "</style>\n",
       "<table border=\"1\" class=\"dataframe\">\n",
       "  <thead>\n",
       "    <tr style=\"text-align: right;\">\n",
       "      <th></th>\n",
       "      <th>RowNumber</th>\n",
       "      <th>CustomerId</th>\n",
       "      <th>Surname</th>\n",
       "      <th>CreditScore</th>\n",
       "      <th>Geography</th>\n",
       "      <th>Gender</th>\n",
       "      <th>Age</th>\n",
       "      <th>Tenure</th>\n",
       "      <th>Balance</th>\n",
       "      <th>NumOfProducts</th>\n",
       "      <th>HasCrCard</th>\n",
       "      <th>IsActiveMember</th>\n",
       "      <th>EstimatedSalary</th>\n",
       "      <th>Exited</th>\n",
       "    </tr>\n",
       "  </thead>\n",
       "  <tbody>\n",
       "    <tr>\n",
       "      <th>0</th>\n",
       "      <td>1</td>\n",
       "      <td>15634602</td>\n",
       "      <td>Hargrave</td>\n",
       "      <td>619</td>\n",
       "      <td>France</td>\n",
       "      <td>Female</td>\n",
       "      <td>42</td>\n",
       "      <td>2</td>\n",
       "      <td>0.00</td>\n",
       "      <td>1</td>\n",
       "      <td>1</td>\n",
       "      <td>1</td>\n",
       "      <td>101348.88</td>\n",
       "      <td>1</td>\n",
       "    </tr>\n",
       "    <tr>\n",
       "      <th>1</th>\n",
       "      <td>2</td>\n",
       "      <td>15647311</td>\n",
       "      <td>Hill</td>\n",
       "      <td>608</td>\n",
       "      <td>Spain</td>\n",
       "      <td>Female</td>\n",
       "      <td>41</td>\n",
       "      <td>1</td>\n",
       "      <td>83807.86</td>\n",
       "      <td>1</td>\n",
       "      <td>0</td>\n",
       "      <td>1</td>\n",
       "      <td>112542.58</td>\n",
       "      <td>0</td>\n",
       "    </tr>\n",
       "    <tr>\n",
       "      <th>2</th>\n",
       "      <td>3</td>\n",
       "      <td>15619304</td>\n",
       "      <td>Onio</td>\n",
       "      <td>502</td>\n",
       "      <td>France</td>\n",
       "      <td>Female</td>\n",
       "      <td>42</td>\n",
       "      <td>8</td>\n",
       "      <td>159660.80</td>\n",
       "      <td>3</td>\n",
       "      <td>1</td>\n",
       "      <td>0</td>\n",
       "      <td>113931.57</td>\n",
       "      <td>1</td>\n",
       "    </tr>\n",
       "    <tr>\n",
       "      <th>3</th>\n",
       "      <td>4</td>\n",
       "      <td>15701354</td>\n",
       "      <td>Boni</td>\n",
       "      <td>699</td>\n",
       "      <td>France</td>\n",
       "      <td>Female</td>\n",
       "      <td>39</td>\n",
       "      <td>1</td>\n",
       "      <td>0.00</td>\n",
       "      <td>2</td>\n",
       "      <td>0</td>\n",
       "      <td>0</td>\n",
       "      <td>93826.63</td>\n",
       "      <td>0</td>\n",
       "    </tr>\n",
       "    <tr>\n",
       "      <th>4</th>\n",
       "      <td>5</td>\n",
       "      <td>15737888</td>\n",
       "      <td>Mitchell</td>\n",
       "      <td>850</td>\n",
       "      <td>Spain</td>\n",
       "      <td>Female</td>\n",
       "      <td>43</td>\n",
       "      <td>2</td>\n",
       "      <td>125510.82</td>\n",
       "      <td>1</td>\n",
       "      <td>1</td>\n",
       "      <td>1</td>\n",
       "      <td>79084.10</td>\n",
       "      <td>0</td>\n",
       "    </tr>\n",
       "  </tbody>\n",
       "</table>\n",
       "</div>"
      ],
      "text/plain": [
       "   RowNumber  CustomerId   Surname  CreditScore Geography  Gender  Age  \\\n",
       "0          1    15634602  Hargrave          619    France  Female   42   \n",
       "1          2    15647311      Hill          608     Spain  Female   41   \n",
       "2          3    15619304      Onio          502    France  Female   42   \n",
       "3          4    15701354      Boni          699    France  Female   39   \n",
       "4          5    15737888  Mitchell          850     Spain  Female   43   \n",
       "\n",
       "   Tenure    Balance  NumOfProducts  HasCrCard  IsActiveMember  \\\n",
       "0       2       0.00              1          1               1   \n",
       "1       1   83807.86              1          0               1   \n",
       "2       8  159660.80              3          1               0   \n",
       "3       1       0.00              2          0               0   \n",
       "4       2  125510.82              1          1               1   \n",
       "\n",
       "   EstimatedSalary  Exited  \n",
       "0        101348.88       1  \n",
       "1        112542.58       0  \n",
       "2        113931.57       1  \n",
       "3         93826.63       0  \n",
       "4         79084.10       0  "
      ]
     },
     "execution_count": 3,
     "metadata": {},
     "output_type": "execute_result"
    }
   ],
   "source": [
    "df.head()"
   ]
  },
  {
   "cell_type": "code",
   "execution_count": 4,
   "id": "fc535123",
   "metadata": {
    "execution": {
     "iopub.execute_input": "2023-12-30T16:22:03.600784Z",
     "iopub.status.busy": "2023-12-30T16:22:03.600390Z",
     "iopub.status.idle": "2023-12-30T16:22:03.632029Z",
     "shell.execute_reply": "2023-12-30T16:22:03.630606Z"
    },
    "papermill": {
     "duration": 0.051006,
     "end_time": "2023-12-30T16:22:03.634975",
     "exception": false,
     "start_time": "2023-12-30T16:22:03.583969",
     "status": "completed"
    },
    "tags": []
   },
   "outputs": [
    {
     "name": "stdout",
     "output_type": "stream",
     "text": [
      "<class 'pandas.core.frame.DataFrame'>\n",
      "RangeIndex: 10000 entries, 0 to 9999\n",
      "Data columns (total 14 columns):\n",
      " #   Column           Non-Null Count  Dtype  \n",
      "---  ------           --------------  -----  \n",
      " 0   RowNumber        10000 non-null  int64  \n",
      " 1   CustomerId       10000 non-null  int64  \n",
      " 2   Surname          10000 non-null  object \n",
      " 3   CreditScore      10000 non-null  int64  \n",
      " 4   Geography        10000 non-null  object \n",
      " 5   Gender           10000 non-null  object \n",
      " 6   Age              10000 non-null  int64  \n",
      " 7   Tenure           10000 non-null  int64  \n",
      " 8   Balance          10000 non-null  float64\n",
      " 9   NumOfProducts    10000 non-null  int64  \n",
      " 10  HasCrCard        10000 non-null  int64  \n",
      " 11  IsActiveMember   10000 non-null  int64  \n",
      " 12  EstimatedSalary  10000 non-null  float64\n",
      " 13  Exited           10000 non-null  int64  \n",
      "dtypes: float64(2), int64(9), object(3)\n",
      "memory usage: 1.1+ MB\n"
     ]
    }
   ],
   "source": [
    "#Find Missing Values -- Check DataTypes\n",
    "df.info()"
   ]
  },
  {
   "cell_type": "code",
   "execution_count": 5,
   "id": "dbfb9e7c",
   "metadata": {
    "execution": {
     "iopub.execute_input": "2023-12-30T16:22:03.667117Z",
     "iopub.status.busy": "2023-12-30T16:22:03.666724Z",
     "iopub.status.idle": "2023-12-30T16:22:03.686938Z",
     "shell.execute_reply": "2023-12-30T16:22:03.685662Z"
    },
    "papermill": {
     "duration": 0.040576,
     "end_time": "2023-12-30T16:22:03.690153",
     "exception": false,
     "start_time": "2023-12-30T16:22:03.649577",
     "status": "completed"
    },
    "tags": []
   },
   "outputs": [
    {
     "data": {
      "text/plain": [
       "0"
      ]
     },
     "execution_count": 5,
     "metadata": {},
     "output_type": "execute_result"
    }
   ],
   "source": [
    "#Check Duplicate Rowa\n",
    "df.duplicated().sum()"
   ]
  },
  {
   "cell_type": "code",
   "execution_count": 6,
   "id": "b3315694",
   "metadata": {
    "execution": {
     "iopub.execute_input": "2023-12-30T16:22:03.721633Z",
     "iopub.status.busy": "2023-12-30T16:22:03.721214Z",
     "iopub.status.idle": "2023-12-30T16:22:03.731001Z",
     "shell.execute_reply": "2023-12-30T16:22:03.729600Z"
    },
    "papermill": {
     "duration": 0.029327,
     "end_time": "2023-12-30T16:22:03.733790",
     "exception": false,
     "start_time": "2023-12-30T16:22:03.704463",
     "status": "completed"
    },
    "tags": []
   },
   "outputs": [
    {
     "data": {
      "text/plain": [
       "Exited\n",
       "0    7963\n",
       "1    2037\n",
       "Name: count, dtype: int64"
      ]
     },
     "execution_count": 6,
     "metadata": {},
     "output_type": "execute_result"
    }
   ],
   "source": [
    "#Check How many Customer Bank Leave \n",
    "df['Exited'].value_counts()"
   ]
  },
  {
   "cell_type": "code",
   "execution_count": 7,
   "id": "db332a82",
   "metadata": {
    "execution": {
     "iopub.execute_input": "2023-12-30T16:22:03.766281Z",
     "iopub.status.busy": "2023-12-30T16:22:03.765812Z",
     "iopub.status.idle": "2023-12-30T16:22:03.777980Z",
     "shell.execute_reply": "2023-12-30T16:22:03.776400Z"
    },
    "papermill": {
     "duration": 0.033041,
     "end_time": "2023-12-30T16:22:03.781681",
     "exception": false,
     "start_time": "2023-12-30T16:22:03.748640",
     "status": "completed"
    },
    "tags": []
   },
   "outputs": [
    {
     "data": {
      "text/plain": [
       "Geography\n",
       "France     5014\n",
       "Germany    2509\n",
       "Spain      2477\n",
       "Name: count, dtype: int64"
      ]
     },
     "execution_count": 7,
     "metadata": {},
     "output_type": "execute_result"
    }
   ],
   "source": [
    "#Check Geography\n",
    "df['Geography'].value_counts()"
   ]
  },
  {
   "cell_type": "code",
   "execution_count": 8,
   "id": "ca5ad501",
   "metadata": {
    "execution": {
     "iopub.execute_input": "2023-12-30T16:22:03.815766Z",
     "iopub.status.busy": "2023-12-30T16:22:03.815257Z",
     "iopub.status.idle": "2023-12-30T16:22:03.826526Z",
     "shell.execute_reply": "2023-12-30T16:22:03.825321Z"
    },
    "papermill": {
     "duration": 0.03142,
     "end_time": "2023-12-30T16:22:03.829142",
     "exception": false,
     "start_time": "2023-12-30T16:22:03.797722",
     "status": "completed"
    },
    "tags": []
   },
   "outputs": [
    {
     "data": {
      "text/plain": [
       "Gender\n",
       "Male      5457\n",
       "Female    4543\n",
       "Name: count, dtype: int64"
      ]
     },
     "execution_count": 8,
     "metadata": {},
     "output_type": "execute_result"
    }
   ],
   "source": [
    "#Check How Many Male - Female\n",
    "df['Gender'].value_counts()"
   ]
  },
  {
   "cell_type": "code",
   "execution_count": 9,
   "id": "9129f9b9",
   "metadata": {
    "execution": {
     "iopub.execute_input": "2023-12-30T16:22:03.862168Z",
     "iopub.status.busy": "2023-12-30T16:22:03.861649Z",
     "iopub.status.idle": "2023-12-30T16:22:03.874062Z",
     "shell.execute_reply": "2023-12-30T16:22:03.872646Z"
    },
    "papermill": {
     "duration": 0.032089,
     "end_time": "2023-12-30T16:22:03.877268",
     "exception": false,
     "start_time": "2023-12-30T16:22:03.845179",
     "status": "completed"
    },
    "tags": []
   },
   "outputs": [],
   "source": [
    "df.drop(columns = ['RowNumber','CustomerId','Surname'],inplace=True)"
   ]
  },
  {
   "cell_type": "code",
   "execution_count": 10,
   "id": "cb946f11",
   "metadata": {
    "execution": {
     "iopub.execute_input": "2023-12-30T16:22:03.909618Z",
     "iopub.status.busy": "2023-12-30T16:22:03.909154Z",
     "iopub.status.idle": "2023-12-30T16:22:03.929351Z",
     "shell.execute_reply": "2023-12-30T16:22:03.928145Z"
    },
    "papermill": {
     "duration": 0.038902,
     "end_time": "2023-12-30T16:22:03.931968",
     "exception": false,
     "start_time": "2023-12-30T16:22:03.893066",
     "status": "completed"
    },
    "tags": []
   },
   "outputs": [
    {
     "data": {
      "text/html": [
       "<div>\n",
       "<style scoped>\n",
       "    .dataframe tbody tr th:only-of-type {\n",
       "        vertical-align: middle;\n",
       "    }\n",
       "\n",
       "    .dataframe tbody tr th {\n",
       "        vertical-align: top;\n",
       "    }\n",
       "\n",
       "    .dataframe thead th {\n",
       "        text-align: right;\n",
       "    }\n",
       "</style>\n",
       "<table border=\"1\" class=\"dataframe\">\n",
       "  <thead>\n",
       "    <tr style=\"text-align: right;\">\n",
       "      <th></th>\n",
       "      <th>CreditScore</th>\n",
       "      <th>Geography</th>\n",
       "      <th>Gender</th>\n",
       "      <th>Age</th>\n",
       "      <th>Tenure</th>\n",
       "      <th>Balance</th>\n",
       "      <th>NumOfProducts</th>\n",
       "      <th>HasCrCard</th>\n",
       "      <th>IsActiveMember</th>\n",
       "      <th>EstimatedSalary</th>\n",
       "      <th>Exited</th>\n",
       "    </tr>\n",
       "  </thead>\n",
       "  <tbody>\n",
       "    <tr>\n",
       "      <th>0</th>\n",
       "      <td>619</td>\n",
       "      <td>France</td>\n",
       "      <td>Female</td>\n",
       "      <td>42</td>\n",
       "      <td>2</td>\n",
       "      <td>0.00</td>\n",
       "      <td>1</td>\n",
       "      <td>1</td>\n",
       "      <td>1</td>\n",
       "      <td>101348.88</td>\n",
       "      <td>1</td>\n",
       "    </tr>\n",
       "    <tr>\n",
       "      <th>1</th>\n",
       "      <td>608</td>\n",
       "      <td>Spain</td>\n",
       "      <td>Female</td>\n",
       "      <td>41</td>\n",
       "      <td>1</td>\n",
       "      <td>83807.86</td>\n",
       "      <td>1</td>\n",
       "      <td>0</td>\n",
       "      <td>1</td>\n",
       "      <td>112542.58</td>\n",
       "      <td>0</td>\n",
       "    </tr>\n",
       "    <tr>\n",
       "      <th>2</th>\n",
       "      <td>502</td>\n",
       "      <td>France</td>\n",
       "      <td>Female</td>\n",
       "      <td>42</td>\n",
       "      <td>8</td>\n",
       "      <td>159660.80</td>\n",
       "      <td>3</td>\n",
       "      <td>1</td>\n",
       "      <td>0</td>\n",
       "      <td>113931.57</td>\n",
       "      <td>1</td>\n",
       "    </tr>\n",
       "    <tr>\n",
       "      <th>3</th>\n",
       "      <td>699</td>\n",
       "      <td>France</td>\n",
       "      <td>Female</td>\n",
       "      <td>39</td>\n",
       "      <td>1</td>\n",
       "      <td>0.00</td>\n",
       "      <td>2</td>\n",
       "      <td>0</td>\n",
       "      <td>0</td>\n",
       "      <td>93826.63</td>\n",
       "      <td>0</td>\n",
       "    </tr>\n",
       "    <tr>\n",
       "      <th>4</th>\n",
       "      <td>850</td>\n",
       "      <td>Spain</td>\n",
       "      <td>Female</td>\n",
       "      <td>43</td>\n",
       "      <td>2</td>\n",
       "      <td>125510.82</td>\n",
       "      <td>1</td>\n",
       "      <td>1</td>\n",
       "      <td>1</td>\n",
       "      <td>79084.10</td>\n",
       "      <td>0</td>\n",
       "    </tr>\n",
       "  </tbody>\n",
       "</table>\n",
       "</div>"
      ],
      "text/plain": [
       "   CreditScore Geography  Gender  Age  Tenure    Balance  NumOfProducts  \\\n",
       "0          619    France  Female   42       2       0.00              1   \n",
       "1          608     Spain  Female   41       1   83807.86              1   \n",
       "2          502    France  Female   42       8  159660.80              3   \n",
       "3          699    France  Female   39       1       0.00              2   \n",
       "4          850     Spain  Female   43       2  125510.82              1   \n",
       "\n",
       "   HasCrCard  IsActiveMember  EstimatedSalary  Exited  \n",
       "0          1               1        101348.88       1  \n",
       "1          0               1        112542.58       0  \n",
       "2          1               0        113931.57       1  \n",
       "3          0               0         93826.63       0  \n",
       "4          1               1         79084.10       0  "
      ]
     },
     "execution_count": 10,
     "metadata": {},
     "output_type": "execute_result"
    }
   ],
   "source": [
    "df.head()"
   ]
  },
  {
   "cell_type": "code",
   "execution_count": 11,
   "id": "98b970ec",
   "metadata": {
    "execution": {
     "iopub.execute_input": "2023-12-30T16:22:03.963974Z",
     "iopub.status.busy": "2023-12-30T16:22:03.963579Z",
     "iopub.status.idle": "2023-12-30T16:22:03.978021Z",
     "shell.execute_reply": "2023-12-30T16:22:03.976480Z"
    },
    "papermill": {
     "duration": 0.033643,
     "end_time": "2023-12-30T16:22:03.980931",
     "exception": false,
     "start_time": "2023-12-30T16:22:03.947288",
     "status": "completed"
    },
    "tags": []
   },
   "outputs": [],
   "source": [
    "#Coverting Non-numerical data to Numerical\n",
    "df = pd.get_dummies(df,columns=['Geography','Gender'],drop_first=True)"
   ]
  },
  {
   "cell_type": "code",
   "execution_count": 12,
   "id": "3d9497e9",
   "metadata": {
    "execution": {
     "iopub.execute_input": "2023-12-30T16:22:04.014622Z",
     "iopub.status.busy": "2023-12-30T16:22:04.014098Z",
     "iopub.status.idle": "2023-12-30T16:22:04.034761Z",
     "shell.execute_reply": "2023-12-30T16:22:04.033339Z"
    },
    "papermill": {
     "duration": 0.041002,
     "end_time": "2023-12-30T16:22:04.037692",
     "exception": false,
     "start_time": "2023-12-30T16:22:03.996690",
     "status": "completed"
    },
    "tags": []
   },
   "outputs": [
    {
     "data": {
      "text/html": [
       "<div>\n",
       "<style scoped>\n",
       "    .dataframe tbody tr th:only-of-type {\n",
       "        vertical-align: middle;\n",
       "    }\n",
       "\n",
       "    .dataframe tbody tr th {\n",
       "        vertical-align: top;\n",
       "    }\n",
       "\n",
       "    .dataframe thead th {\n",
       "        text-align: right;\n",
       "    }\n",
       "</style>\n",
       "<table border=\"1\" class=\"dataframe\">\n",
       "  <thead>\n",
       "    <tr style=\"text-align: right;\">\n",
       "      <th></th>\n",
       "      <th>CreditScore</th>\n",
       "      <th>Age</th>\n",
       "      <th>Tenure</th>\n",
       "      <th>Balance</th>\n",
       "      <th>NumOfProducts</th>\n",
       "      <th>HasCrCard</th>\n",
       "      <th>IsActiveMember</th>\n",
       "      <th>EstimatedSalary</th>\n",
       "      <th>Exited</th>\n",
       "      <th>Geography_Germany</th>\n",
       "      <th>Geography_Spain</th>\n",
       "      <th>Gender_Male</th>\n",
       "    </tr>\n",
       "  </thead>\n",
       "  <tbody>\n",
       "    <tr>\n",
       "      <th>0</th>\n",
       "      <td>619</td>\n",
       "      <td>42</td>\n",
       "      <td>2</td>\n",
       "      <td>0.00</td>\n",
       "      <td>1</td>\n",
       "      <td>1</td>\n",
       "      <td>1</td>\n",
       "      <td>101348.88</td>\n",
       "      <td>1</td>\n",
       "      <td>False</td>\n",
       "      <td>False</td>\n",
       "      <td>False</td>\n",
       "    </tr>\n",
       "    <tr>\n",
       "      <th>1</th>\n",
       "      <td>608</td>\n",
       "      <td>41</td>\n",
       "      <td>1</td>\n",
       "      <td>83807.86</td>\n",
       "      <td>1</td>\n",
       "      <td>0</td>\n",
       "      <td>1</td>\n",
       "      <td>112542.58</td>\n",
       "      <td>0</td>\n",
       "      <td>False</td>\n",
       "      <td>True</td>\n",
       "      <td>False</td>\n",
       "    </tr>\n",
       "    <tr>\n",
       "      <th>2</th>\n",
       "      <td>502</td>\n",
       "      <td>42</td>\n",
       "      <td>8</td>\n",
       "      <td>159660.80</td>\n",
       "      <td>3</td>\n",
       "      <td>1</td>\n",
       "      <td>0</td>\n",
       "      <td>113931.57</td>\n",
       "      <td>1</td>\n",
       "      <td>False</td>\n",
       "      <td>False</td>\n",
       "      <td>False</td>\n",
       "    </tr>\n",
       "    <tr>\n",
       "      <th>3</th>\n",
       "      <td>699</td>\n",
       "      <td>39</td>\n",
       "      <td>1</td>\n",
       "      <td>0.00</td>\n",
       "      <td>2</td>\n",
       "      <td>0</td>\n",
       "      <td>0</td>\n",
       "      <td>93826.63</td>\n",
       "      <td>0</td>\n",
       "      <td>False</td>\n",
       "      <td>False</td>\n",
       "      <td>False</td>\n",
       "    </tr>\n",
       "    <tr>\n",
       "      <th>4</th>\n",
       "      <td>850</td>\n",
       "      <td>43</td>\n",
       "      <td>2</td>\n",
       "      <td>125510.82</td>\n",
       "      <td>1</td>\n",
       "      <td>1</td>\n",
       "      <td>1</td>\n",
       "      <td>79084.10</td>\n",
       "      <td>0</td>\n",
       "      <td>False</td>\n",
       "      <td>True</td>\n",
       "      <td>False</td>\n",
       "    </tr>\n",
       "  </tbody>\n",
       "</table>\n",
       "</div>"
      ],
      "text/plain": [
       "   CreditScore  Age  Tenure    Balance  NumOfProducts  HasCrCard  \\\n",
       "0          619   42       2       0.00              1          1   \n",
       "1          608   41       1   83807.86              1          0   \n",
       "2          502   42       8  159660.80              3          1   \n",
       "3          699   39       1       0.00              2          0   \n",
       "4          850   43       2  125510.82              1          1   \n",
       "\n",
       "   IsActiveMember  EstimatedSalary  Exited  Geography_Germany  \\\n",
       "0               1        101348.88       1              False   \n",
       "1               1        112542.58       0              False   \n",
       "2               0        113931.57       1              False   \n",
       "3               0         93826.63       0              False   \n",
       "4               1         79084.10       0              False   \n",
       "\n",
       "   Geography_Spain  Gender_Male  \n",
       "0            False        False  \n",
       "1             True        False  \n",
       "2            False        False  \n",
       "3            False        False  \n",
       "4             True        False  "
      ]
     },
     "execution_count": 12,
     "metadata": {},
     "output_type": "execute_result"
    }
   ],
   "source": [
    "df.head()"
   ]
  },
  {
   "cell_type": "code",
   "execution_count": 13,
   "id": "769f67a1",
   "metadata": {
    "execution": {
     "iopub.execute_input": "2023-12-30T16:22:04.070869Z",
     "iopub.status.busy": "2023-12-30T16:22:04.070359Z",
     "iopub.status.idle": "2023-12-30T16:22:05.465883Z",
     "shell.execute_reply": "2023-12-30T16:22:05.464554Z"
    },
    "papermill": {
     "duration": 1.416168,
     "end_time": "2023-12-30T16:22:05.469133",
     "exception": false,
     "start_time": "2023-12-30T16:22:04.052965",
     "status": "completed"
    },
    "tags": []
   },
   "outputs": [],
   "source": [
    "#Scaled Data\n",
    "\n",
    "X = df.drop(columns=['Exited'])\n",
    "y = df['Exited'].values\n",
    "\n",
    "from sklearn.model_selection import train_test_split\n",
    "X_train,X_test,y_train,y_test = train_test_split(X,y,test_size=0.2,random_state=0)\n",
    "\n",
    "from sklearn.preprocessing import StandardScaler\n",
    "scaler = StandardScaler()\n",
    "\n",
    "X_train_trf = scaler.fit_transform(X_train)\n",
    "X_test_trf = scaler.transform(X_test)"
   ]
  },
  {
   "cell_type": "code",
   "execution_count": 14,
   "id": "32a8147e",
   "metadata": {
    "execution": {
     "iopub.execute_input": "2023-12-30T16:22:05.503696Z",
     "iopub.status.busy": "2023-12-30T16:22:05.502945Z",
     "iopub.status.idle": "2023-12-30T16:22:05.511980Z",
     "shell.execute_reply": "2023-12-30T16:22:05.510405Z"
    },
    "papermill": {
     "duration": 0.028983,
     "end_time": "2023-12-30T16:22:05.514528",
     "exception": false,
     "start_time": "2023-12-30T16:22:05.485545",
     "status": "completed"
    },
    "tags": []
   },
   "outputs": [
    {
     "data": {
      "text/plain": [
       "array([[ 0.16958176, -0.46460796,  0.00666099, ..., -0.5698444 ,\n",
       "         1.74309049, -1.09168714],\n",
       "       [-2.30455945,  0.30102557, -1.37744033, ...,  1.75486502,\n",
       "        -0.57369368,  0.91601335],\n",
       "       [-1.19119591, -0.94312892, -1.031415  , ..., -0.5698444 ,\n",
       "        -0.57369368, -1.09168714],\n",
       "       ...,\n",
       "       [ 0.9015152 , -0.36890377,  0.00666099, ..., -0.5698444 ,\n",
       "        -0.57369368,  0.91601335],\n",
       "       [-0.62420521, -0.08179119,  1.39076231, ..., -0.5698444 ,\n",
       "         1.74309049, -1.09168714],\n",
       "       [-0.28401079,  0.87525072, -1.37744033, ...,  1.75486502,\n",
       "        -0.57369368, -1.09168714]])"
      ]
     },
     "execution_count": 14,
     "metadata": {},
     "output_type": "execute_result"
    }
   ],
   "source": [
    "X_train_trf"
   ]
  },
  {
   "cell_type": "code",
   "execution_count": 15,
   "id": "95d91954",
   "metadata": {
    "execution": {
     "iopub.execute_input": "2023-12-30T16:22:05.622644Z",
     "iopub.status.busy": "2023-12-30T16:22:05.621818Z",
     "iopub.status.idle": "2023-12-30T16:22:20.197535Z",
     "shell.execute_reply": "2023-12-30T16:22:20.196263Z"
    },
    "papermill": {
     "duration": 14.597757,
     "end_time": "2023-12-30T16:22:20.200617",
     "exception": false,
     "start_time": "2023-12-30T16:22:05.602860",
     "status": "completed"
    },
    "tags": []
   },
   "outputs": [],
   "source": [
    "import tensorflow\n",
    "from tensorflow import keras\n",
    "from tensorflow.keras import Sequential\n",
    "from tensorflow.keras.layers import Dense"
   ]
  },
  {
   "cell_type": "code",
   "execution_count": 16,
   "id": "74e48c42",
   "metadata": {
    "execution": {
     "iopub.execute_input": "2023-12-30T16:22:20.236187Z",
     "iopub.status.busy": "2023-12-30T16:22:20.235435Z",
     "iopub.status.idle": "2023-12-30T16:22:20.413896Z",
     "shell.execute_reply": "2023-12-30T16:22:20.412951Z"
    },
    "papermill": {
     "duration": 0.198597,
     "end_time": "2023-12-30T16:22:20.416673",
     "exception": false,
     "start_time": "2023-12-30T16:22:20.218076",
     "status": "completed"
    },
    "tags": []
   },
   "outputs": [],
   "source": [
    "model = Sequential()\n",
    "\n",
    "model.add(Dense(3, activation='sigmoid', input_dim=11)) #11 inputs--> 3 input_layer--> 1 hidean--> 1 output\n",
    "model.add(Dense(1, activation='sigmoid'))\n"
   ]
  },
  {
   "cell_type": "code",
   "execution_count": 17,
   "id": "9075a5e5",
   "metadata": {
    "execution": {
     "iopub.execute_input": "2023-12-30T16:22:20.450776Z",
     "iopub.status.busy": "2023-12-30T16:22:20.449370Z",
     "iopub.status.idle": "2023-12-30T16:22:20.471529Z",
     "shell.execute_reply": "2023-12-30T16:22:20.470014Z"
    },
    "papermill": {
     "duration": 0.042057,
     "end_time": "2023-12-30T16:22:20.474334",
     "exception": false,
     "start_time": "2023-12-30T16:22:20.432277",
     "status": "completed"
    },
    "tags": []
   },
   "outputs": [
    {
     "name": "stdout",
     "output_type": "stream",
     "text": [
      "Model: \"sequential\"\n",
      "_________________________________________________________________\n",
      " Layer (type)                Output Shape              Param #   \n",
      "=================================================================\n",
      " dense (Dense)               (None, 3)                 36        \n",
      "                                                                 \n",
      " dense_1 (Dense)             (None, 1)                 4         \n",
      "                                                                 \n",
      "=================================================================\n",
      "Total params: 40 (160.00 Byte)\n",
      "Trainable params: 40 (160.00 Byte)\n",
      "Non-trainable params: 0 (0.00 Byte)\n",
      "_________________________________________________________________\n"
     ]
    }
   ],
   "source": [
    "model.summary()"
   ]
  },
  {
   "cell_type": "code",
   "execution_count": 18,
   "id": "35512d1f",
   "metadata": {
    "execution": {
     "iopub.execute_input": "2023-12-30T16:22:20.511037Z",
     "iopub.status.busy": "2023-12-30T16:22:20.510056Z",
     "iopub.status.idle": "2023-12-30T16:22:20.533100Z",
     "shell.execute_reply": "2023-12-30T16:22:20.531640Z"
    },
    "papermill": {
     "duration": 0.044912,
     "end_time": "2023-12-30T16:22:20.536361",
     "exception": false,
     "start_time": "2023-12-30T16:22:20.491449",
     "status": "completed"
    },
    "tags": []
   },
   "outputs": [],
   "source": [
    "model.compile(loss='binary_crossentropy', optimizer='Adam')"
   ]
  },
  {
   "cell_type": "code",
   "execution_count": 19,
   "id": "67374ce5",
   "metadata": {
    "execution": {
     "iopub.execute_input": "2023-12-30T16:22:20.573424Z",
     "iopub.status.busy": "2023-12-30T16:22:20.572990Z",
     "iopub.status.idle": "2023-12-30T16:22:26.295170Z",
     "shell.execute_reply": "2023-12-30T16:22:26.293770Z"
    },
    "papermill": {
     "duration": 5.743866,
     "end_time": "2023-12-30T16:22:26.297916",
     "exception": false,
     "start_time": "2023-12-30T16:22:20.554050",
     "status": "completed"
    },
    "tags": []
   },
   "outputs": [
    {
     "name": "stdout",
     "output_type": "stream",
     "text": [
      "Epoch 1/10\n",
      "250/250 [==============================] - 1s 2ms/step - loss: 0.5751\n",
      "Epoch 2/10\n",
      "250/250 [==============================] - 0s 2ms/step - loss: 0.4912\n",
      "Epoch 3/10\n",
      "250/250 [==============================] - 0s 2ms/step - loss: 0.4609\n",
      "Epoch 4/10\n",
      "250/250 [==============================] - 1s 2ms/step - loss: 0.4486\n",
      "Epoch 5/10\n",
      "250/250 [==============================] - 0s 2ms/step - loss: 0.4416\n",
      "Epoch 6/10\n",
      "250/250 [==============================] - 1s 2ms/step - loss: 0.4368\n",
      "Epoch 7/10\n",
      "250/250 [==============================] - 0s 2ms/step - loss: 0.4333\n",
      "Epoch 8/10\n",
      "250/250 [==============================] - 0s 2ms/step - loss: 0.4307\n",
      "Epoch 9/10\n",
      "250/250 [==============================] - 0s 2ms/step - loss: 0.4287\n",
      "Epoch 10/10\n",
      "250/250 [==============================] - 0s 2ms/step - loss: 0.4272\n"
     ]
    },
    {
     "data": {
      "text/plain": [
       "<keras.src.callbacks.History at 0x7fec2a2ca7d0>"
      ]
     },
     "execution_count": 19,
     "metadata": {},
     "output_type": "execute_result"
    }
   ],
   "source": [
    "model.fit(X_train_trf,y_train, epochs=10)"
   ]
  },
  {
   "cell_type": "code",
   "execution_count": 20,
   "id": "4d044f6f",
   "metadata": {
    "execution": {
     "iopub.execute_input": "2023-12-30T16:22:26.358216Z",
     "iopub.status.busy": "2023-12-30T16:22:26.357749Z",
     "iopub.status.idle": "2023-12-30T16:22:26.370979Z",
     "shell.execute_reply": "2023-12-30T16:22:26.369790Z"
    },
    "papermill": {
     "duration": 0.046496,
     "end_time": "2023-12-30T16:22:26.373775",
     "exception": false,
     "start_time": "2023-12-30T16:22:26.327279",
     "status": "completed"
    },
    "tags": []
   },
   "outputs": [
    {
     "data": {
      "text/plain": [
       "[array([[ 0.13809542, -0.09428759,  0.44112843],\n",
       "        [ 1.6046894 , -1.602891  , -1.0459307 ],\n",
       "        [-0.28704226,  0.04551914,  0.02878722],\n",
       "        [ 0.45190912,  0.20580816, -0.37238735],\n",
       "        [ 0.1290583 ,  0.74633145,  0.02183983],\n",
       "        [-0.06025248, -0.0851253 ,  0.12070414],\n",
       "        [-0.3613945 ,  0.3482311 ,  1.0798548 ],\n",
       "        [-0.15958357, -0.16880684, -0.02484304],\n",
       "        [ 0.03302203, -0.7410368 , -0.85628146],\n",
       "        [ 0.00235111, -0.15975283, -0.0736585 ],\n",
       "        [-0.6022143 ,  0.49303955,  0.3352061 ]], dtype=float32),\n",
       " array([-0.2787933,  0.6219414,  0.5968114], dtype=float32)]"
      ]
     },
     "execution_count": 20,
     "metadata": {},
     "output_type": "execute_result"
    }
   ],
   "source": [
    "model.layers[0].get_weights()"
   ]
  },
  {
   "cell_type": "code",
   "execution_count": 21,
   "id": "9a687a3d",
   "metadata": {
    "execution": {
     "iopub.execute_input": "2023-12-30T16:22:26.434480Z",
     "iopub.status.busy": "2023-12-30T16:22:26.434022Z",
     "iopub.status.idle": "2023-12-30T16:22:26.447191Z",
     "shell.execute_reply": "2023-12-30T16:22:26.445839Z"
    },
    "papermill": {
     "duration": 0.047082,
     "end_time": "2023-12-30T16:22:26.450183",
     "exception": false,
     "start_time": "2023-12-30T16:22:26.403101",
     "status": "completed"
    },
    "tags": []
   },
   "outputs": [
    {
     "data": {
      "text/plain": [
       "[array([[ 0.7221598],\n",
       "        [-1.1694592],\n",
       "        [-1.3223481]], dtype=float32),\n",
       " array([-0.40552697], dtype=float32)]"
      ]
     },
     "execution_count": 21,
     "metadata": {},
     "output_type": "execute_result"
    }
   ],
   "source": [
    "model.layers[1].get_weights()"
   ]
  },
  {
   "cell_type": "code",
   "execution_count": 22,
   "id": "ae991a6f",
   "metadata": {
    "execution": {
     "iopub.execute_input": "2023-12-30T16:22:26.510568Z",
     "iopub.status.busy": "2023-12-30T16:22:26.510124Z",
     "iopub.status.idle": "2023-12-30T16:22:26.823580Z",
     "shell.execute_reply": "2023-12-30T16:22:26.822190Z"
    },
    "papermill": {
     "duration": 0.347545,
     "end_time": "2023-12-30T16:22:26.826616",
     "exception": false,
     "start_time": "2023-12-30T16:22:26.479071",
     "status": "completed"
    },
    "tags": []
   },
   "outputs": [
    {
     "name": "stdout",
     "output_type": "stream",
     "text": [
      "63/63 [==============================] - 0s 1ms/step\n"
     ]
    },
    {
     "data": {
      "text/plain": [
       "array([[0.2528301 ],\n",
       "       [0.35362506],\n",
       "       [0.18074664],\n",
       "       ...,\n",
       "       [0.16266468],\n",
       "       [0.13178529],\n",
       "       [0.2274473 ]], dtype=float32)"
      ]
     },
     "execution_count": 22,
     "metadata": {},
     "output_type": "execute_result"
    }
   ],
   "source": [
    "model.predict(X_test_trf)"
   ]
  },
  {
   "cell_type": "code",
   "execution_count": 23,
   "id": "9e3bd89b",
   "metadata": {
    "execution": {
     "iopub.execute_input": "2023-12-30T16:22:26.890581Z",
     "iopub.status.busy": "2023-12-30T16:22:26.890074Z",
     "iopub.status.idle": "2023-12-30T16:22:27.102304Z",
     "shell.execute_reply": "2023-12-30T16:22:27.101090Z"
    },
    "papermill": {
     "duration": 0.246655,
     "end_time": "2023-12-30T16:22:27.105413",
     "exception": false,
     "start_time": "2023-12-30T16:22:26.858758",
     "status": "completed"
    },
    "tags": []
   },
   "outputs": [
    {
     "name": "stdout",
     "output_type": "stream",
     "text": [
      "63/63 [==============================] - 0s 2ms/step\n"
     ]
    }
   ],
   "source": [
    "y_log  = model.predict(X_test_trf)\n",
    "\n",
    "y_pred = np.where(y_log > 0.5, 1 , 0)"
   ]
  },
  {
   "cell_type": "code",
   "execution_count": 24,
   "id": "0f6db92b",
   "metadata": {
    "execution": {
     "iopub.execute_input": "2023-12-30T16:22:27.167653Z",
     "iopub.status.busy": "2023-12-30T16:22:27.167133Z",
     "iopub.status.idle": "2023-12-30T16:22:27.176179Z",
     "shell.execute_reply": "2023-12-30T16:22:27.174561Z"
    },
    "papermill": {
     "duration": 0.044206,
     "end_time": "2023-12-30T16:22:27.178997",
     "exception": false,
     "start_time": "2023-12-30T16:22:27.134791",
     "status": "completed"
    },
    "tags": []
   },
   "outputs": [
    {
     "data": {
      "text/plain": [
       "array([[0],\n",
       "       [0],\n",
       "       [0],\n",
       "       ...,\n",
       "       [0],\n",
       "       [0],\n",
       "       [0]])"
      ]
     },
     "execution_count": 24,
     "metadata": {},
     "output_type": "execute_result"
    }
   ],
   "source": [
    "y_pred"
   ]
  },
  {
   "cell_type": "code",
   "execution_count": 25,
   "id": "8c064645",
   "metadata": {
    "execution": {
     "iopub.execute_input": "2023-12-30T16:22:27.240354Z",
     "iopub.status.busy": "2023-12-30T16:22:27.239860Z",
     "iopub.status.idle": "2023-12-30T16:22:27.250768Z",
     "shell.execute_reply": "2023-12-30T16:22:27.249491Z"
    },
    "papermill": {
     "duration": 0.045355,
     "end_time": "2023-12-30T16:22:27.253857",
     "exception": false,
     "start_time": "2023-12-30T16:22:27.208502",
     "status": "completed"
    },
    "tags": []
   },
   "outputs": [
    {
     "data": {
      "text/plain": [
       "0.813"
      ]
     },
     "execution_count": 25,
     "metadata": {},
     "output_type": "execute_result"
    }
   ],
   "source": [
    "from sklearn.metrics import accuracy_score\n",
    "accuracy_score(y_test,y_pred)"
   ]
  },
  {
   "cell_type": "markdown",
   "id": "fda789b6",
   "metadata": {
    "papermill": {
     "duration": 0.029768,
     "end_time": "2023-12-30T16:22:27.314457",
     "exception": false,
     "start_time": "2023-12-30T16:22:27.284689",
     "status": "completed"
    },
    "tags": []
   },
   "source": [
    "#Changes In Model"
   ]
  },
  {
   "cell_type": "code",
   "execution_count": 26,
   "id": "e4f23d60",
   "metadata": {
    "execution": {
     "iopub.execute_input": "2023-12-30T16:22:27.377615Z",
     "iopub.status.busy": "2023-12-30T16:22:27.377073Z",
     "iopub.status.idle": "2023-12-30T16:22:27.444188Z",
     "shell.execute_reply": "2023-12-30T16:22:27.442720Z"
    },
    "papermill": {
     "duration": 0.102028,
     "end_time": "2023-12-30T16:22:27.447334",
     "exception": false,
     "start_time": "2023-12-30T16:22:27.345306",
     "status": "completed"
    },
    "tags": []
   },
   "outputs": [],
   "source": [
    "model = Sequential()\n",
    "\n",
    "model.add(Dense(11, activation='relu', input_dim=11)) #11 inputs--> 11 input_layer--> 1 hidean--> 1 output\n",
    "model.add(Dense(11, activation='relu'))\n",
    "model.add(Dense(1, activation='sigmoid'))"
   ]
  },
  {
   "cell_type": "code",
   "execution_count": 27,
   "id": "5f14bcb4",
   "metadata": {
    "execution": {
     "iopub.execute_input": "2023-12-30T16:22:27.511126Z",
     "iopub.status.busy": "2023-12-30T16:22:27.510635Z",
     "iopub.status.idle": "2023-12-30T16:22:27.534821Z",
     "shell.execute_reply": "2023-12-30T16:22:27.533351Z"
    },
    "papermill": {
     "duration": 0.066238,
     "end_time": "2023-12-30T16:22:27.544361",
     "exception": false,
     "start_time": "2023-12-30T16:22:27.478123",
     "status": "completed"
    },
    "tags": []
   },
   "outputs": [
    {
     "name": "stdout",
     "output_type": "stream",
     "text": [
      "Model: \"sequential_1\"\n",
      "_________________________________________________________________\n",
      " Layer (type)                Output Shape              Param #   \n",
      "=================================================================\n",
      " dense_2 (Dense)             (None, 11)                132       \n",
      "                                                                 \n",
      " dense_3 (Dense)             (None, 11)                132       \n",
      "                                                                 \n",
      " dense_4 (Dense)             (None, 1)                 12        \n",
      "                                                                 \n",
      "=================================================================\n",
      "Total params: 276 (1.08 KB)\n",
      "Trainable params: 276 (1.08 KB)\n",
      "Non-trainable params: 0 (0.00 Byte)\n",
      "_________________________________________________________________\n"
     ]
    }
   ],
   "source": [
    "model.summary()"
   ]
  },
  {
   "cell_type": "code",
   "execution_count": 28,
   "id": "b4e87293",
   "metadata": {
    "execution": {
     "iopub.execute_input": "2023-12-30T16:22:27.612686Z",
     "iopub.status.busy": "2023-12-30T16:22:27.612187Z",
     "iopub.status.idle": "2023-12-30T16:22:27.630500Z",
     "shell.execute_reply": "2023-12-30T16:22:27.628954Z"
    },
    "papermill": {
     "duration": 0.056846,
     "end_time": "2023-12-30T16:22:27.633806",
     "exception": false,
     "start_time": "2023-12-30T16:22:27.576960",
     "status": "completed"
    },
    "tags": []
   },
   "outputs": [],
   "source": [
    "model.compile(loss='binary_crossentropy', optimizer='Adam' , metrics=['accuracy']) #compile time check accuracy of model"
   ]
  },
  {
   "cell_type": "code",
   "execution_count": 29,
   "id": "7f81a278",
   "metadata": {
    "execution": {
     "iopub.execute_input": "2023-12-30T16:22:27.702456Z",
     "iopub.status.busy": "2023-12-30T16:22:27.701170Z",
     "iopub.status.idle": "2023-12-30T16:23:23.520862Z",
     "shell.execute_reply": "2023-12-30T16:23:23.519426Z"
    },
    "papermill": {
     "duration": 55.857838,
     "end_time": "2023-12-30T16:23:23.524364",
     "exception": false,
     "start_time": "2023-12-30T16:22:27.666526",
     "status": "completed"
    },
    "tags": []
   },
   "outputs": [
    {
     "name": "stdout",
     "output_type": "stream",
     "text": [
      "Epoch 1/100\n",
      "200/200 [==============================] - 2s 4ms/step - loss: 0.5229 - accuracy: 0.7853 - val_loss: 0.4728 - val_accuracy: 0.8037\n",
      "Epoch 2/100\n",
      "200/200 [==============================] - 1s 3ms/step - loss: 0.4489 - accuracy: 0.8105 - val_loss: 0.4485 - val_accuracy: 0.8094\n",
      "Epoch 3/100\n",
      "200/200 [==============================] - 1s 3ms/step - loss: 0.4311 - accuracy: 0.8130 - val_loss: 0.4380 - val_accuracy: 0.8156\n",
      "Epoch 4/100\n",
      "200/200 [==============================] - 1s 3ms/step - loss: 0.4210 - accuracy: 0.8180 - val_loss: 0.4313 - val_accuracy: 0.8131\n",
      "Epoch 5/100\n",
      "200/200 [==============================] - 1s 3ms/step - loss: 0.4137 - accuracy: 0.8238 - val_loss: 0.4246 - val_accuracy: 0.8156\n",
      "Epoch 6/100\n",
      "200/200 [==============================] - 1s 3ms/step - loss: 0.4055 - accuracy: 0.8313 - val_loss: 0.4184 - val_accuracy: 0.8200\n",
      "Epoch 7/100\n",
      "200/200 [==============================] - 1s 3ms/step - loss: 0.3970 - accuracy: 0.8348 - val_loss: 0.4071 - val_accuracy: 0.8225\n",
      "Epoch 8/100\n",
      "200/200 [==============================] - 0s 2ms/step - loss: 0.3861 - accuracy: 0.8389 - val_loss: 0.3968 - val_accuracy: 0.8300\n",
      "Epoch 9/100\n",
      "200/200 [==============================] - 1s 3ms/step - loss: 0.3748 - accuracy: 0.8455 - val_loss: 0.3866 - val_accuracy: 0.8350\n",
      "Epoch 10/100\n",
      "200/200 [==============================] - 0s 2ms/step - loss: 0.3646 - accuracy: 0.8514 - val_loss: 0.3779 - val_accuracy: 0.8381\n",
      "Epoch 11/100\n",
      "200/200 [==============================] - 0s 2ms/step - loss: 0.3560 - accuracy: 0.8553 - val_loss: 0.3726 - val_accuracy: 0.8475\n",
      "Epoch 12/100\n",
      "200/200 [==============================] - 1s 3ms/step - loss: 0.3510 - accuracy: 0.8548 - val_loss: 0.3672 - val_accuracy: 0.8537\n",
      "Epoch 13/100\n",
      "200/200 [==============================] - 1s 3ms/step - loss: 0.3467 - accuracy: 0.8587 - val_loss: 0.3641 - val_accuracy: 0.8537\n",
      "Epoch 14/100\n",
      "200/200 [==============================] - 1s 3ms/step - loss: 0.3439 - accuracy: 0.8592 - val_loss: 0.3614 - val_accuracy: 0.8562\n",
      "Epoch 15/100\n",
      "200/200 [==============================] - 1s 3ms/step - loss: 0.3417 - accuracy: 0.8605 - val_loss: 0.3601 - val_accuracy: 0.8581\n",
      "Epoch 16/100\n",
      "200/200 [==============================] - 1s 3ms/step - loss: 0.3404 - accuracy: 0.8609 - val_loss: 0.3593 - val_accuracy: 0.8569\n",
      "Epoch 17/100\n",
      "200/200 [==============================] - 1s 3ms/step - loss: 0.3382 - accuracy: 0.8606 - val_loss: 0.3581 - val_accuracy: 0.8562\n",
      "Epoch 18/100\n",
      "200/200 [==============================] - 1s 3ms/step - loss: 0.3376 - accuracy: 0.8608 - val_loss: 0.3591 - val_accuracy: 0.8537\n",
      "Epoch 19/100\n",
      "200/200 [==============================] - 0s 2ms/step - loss: 0.3359 - accuracy: 0.8616 - val_loss: 0.3575 - val_accuracy: 0.8575\n",
      "Epoch 20/100\n",
      "200/200 [==============================] - 1s 3ms/step - loss: 0.3355 - accuracy: 0.8609 - val_loss: 0.3558 - val_accuracy: 0.8575\n",
      "Epoch 21/100\n",
      "200/200 [==============================] - 1s 3ms/step - loss: 0.3345 - accuracy: 0.8622 - val_loss: 0.3571 - val_accuracy: 0.8562\n",
      "Epoch 22/100\n",
      "200/200 [==============================] - 1s 3ms/step - loss: 0.3341 - accuracy: 0.8619 - val_loss: 0.3552 - val_accuracy: 0.8606\n",
      "Epoch 23/100\n",
      "200/200 [==============================] - 0s 2ms/step - loss: 0.3328 - accuracy: 0.8628 - val_loss: 0.3542 - val_accuracy: 0.8587\n",
      "Epoch 24/100\n",
      "200/200 [==============================] - 1s 3ms/step - loss: 0.3324 - accuracy: 0.8616 - val_loss: 0.3538 - val_accuracy: 0.8612\n",
      "Epoch 25/100\n",
      "200/200 [==============================] - 1s 3ms/step - loss: 0.3313 - accuracy: 0.8641 - val_loss: 0.3563 - val_accuracy: 0.8581\n",
      "Epoch 26/100\n",
      "200/200 [==============================] - 1s 3ms/step - loss: 0.3311 - accuracy: 0.8639 - val_loss: 0.3535 - val_accuracy: 0.8556\n",
      "Epoch 27/100\n",
      "200/200 [==============================] - 1s 3ms/step - loss: 0.3301 - accuracy: 0.8625 - val_loss: 0.3527 - val_accuracy: 0.8612\n",
      "Epoch 28/100\n",
      "200/200 [==============================] - 1s 3ms/step - loss: 0.3301 - accuracy: 0.8634 - val_loss: 0.3515 - val_accuracy: 0.8619\n",
      "Epoch 29/100\n",
      "200/200 [==============================] - 1s 3ms/step - loss: 0.3298 - accuracy: 0.8631 - val_loss: 0.3513 - val_accuracy: 0.8600\n",
      "Epoch 30/100\n",
      "200/200 [==============================] - 1s 3ms/step - loss: 0.3288 - accuracy: 0.8634 - val_loss: 0.3518 - val_accuracy: 0.8587\n",
      "Epoch 31/100\n",
      "200/200 [==============================] - 1s 3ms/step - loss: 0.3286 - accuracy: 0.8619 - val_loss: 0.3512 - val_accuracy: 0.8631\n",
      "Epoch 32/100\n",
      "200/200 [==============================] - 1s 3ms/step - loss: 0.3278 - accuracy: 0.8623 - val_loss: 0.3527 - val_accuracy: 0.8556\n",
      "Epoch 33/100\n",
      "200/200 [==============================] - 1s 3ms/step - loss: 0.3271 - accuracy: 0.8652 - val_loss: 0.3529 - val_accuracy: 0.8569\n",
      "Epoch 34/100\n",
      "200/200 [==============================] - 1s 3ms/step - loss: 0.3273 - accuracy: 0.8642 - val_loss: 0.3511 - val_accuracy: 0.8625\n",
      "Epoch 35/100\n",
      "200/200 [==============================] - 1s 3ms/step - loss: 0.3266 - accuracy: 0.8641 - val_loss: 0.3513 - val_accuracy: 0.8612\n",
      "Epoch 36/100\n",
      "200/200 [==============================] - 1s 3ms/step - loss: 0.3266 - accuracy: 0.8644 - val_loss: 0.3506 - val_accuracy: 0.8612\n",
      "Epoch 37/100\n",
      "200/200 [==============================] - 1s 3ms/step - loss: 0.3262 - accuracy: 0.8659 - val_loss: 0.3511 - val_accuracy: 0.8612\n",
      "Epoch 38/100\n",
      "200/200 [==============================] - 1s 3ms/step - loss: 0.3258 - accuracy: 0.8658 - val_loss: 0.3520 - val_accuracy: 0.8600\n",
      "Epoch 39/100\n",
      "200/200 [==============================] - 1s 3ms/step - loss: 0.3259 - accuracy: 0.8664 - val_loss: 0.3499 - val_accuracy: 0.8600\n",
      "Epoch 40/100\n",
      "200/200 [==============================] - 1s 3ms/step - loss: 0.3254 - accuracy: 0.8664 - val_loss: 0.3490 - val_accuracy: 0.8606\n",
      "Epoch 41/100\n",
      "200/200 [==============================] - 1s 3ms/step - loss: 0.3257 - accuracy: 0.8645 - val_loss: 0.3498 - val_accuracy: 0.8600\n",
      "Epoch 42/100\n",
      "200/200 [==============================] - 1s 3ms/step - loss: 0.3247 - accuracy: 0.8644 - val_loss: 0.3492 - val_accuracy: 0.8625\n",
      "Epoch 43/100\n",
      "200/200 [==============================] - 1s 3ms/step - loss: 0.3249 - accuracy: 0.8661 - val_loss: 0.3493 - val_accuracy: 0.8606\n",
      "Epoch 44/100\n",
      "200/200 [==============================] - 1s 3ms/step - loss: 0.3251 - accuracy: 0.8641 - val_loss: 0.3490 - val_accuracy: 0.8644\n",
      "Epoch 45/100\n",
      "200/200 [==============================] - 1s 3ms/step - loss: 0.3245 - accuracy: 0.8653 - val_loss: 0.3488 - val_accuracy: 0.8612\n",
      "Epoch 46/100\n",
      "200/200 [==============================] - 1s 3ms/step - loss: 0.3240 - accuracy: 0.8672 - val_loss: 0.3504 - val_accuracy: 0.8600\n",
      "Epoch 47/100\n",
      "200/200 [==============================] - 1s 3ms/step - loss: 0.3243 - accuracy: 0.8666 - val_loss: 0.3500 - val_accuracy: 0.8600\n",
      "Epoch 48/100\n",
      "200/200 [==============================] - 1s 3ms/step - loss: 0.3243 - accuracy: 0.8658 - val_loss: 0.3490 - val_accuracy: 0.8625\n",
      "Epoch 49/100\n",
      "200/200 [==============================] - 1s 3ms/step - loss: 0.3235 - accuracy: 0.8664 - val_loss: 0.3500 - val_accuracy: 0.8625\n",
      "Epoch 50/100\n",
      "200/200 [==============================] - 1s 3ms/step - loss: 0.3235 - accuracy: 0.8666 - val_loss: 0.3494 - val_accuracy: 0.8612\n",
      "Epoch 51/100\n",
      "200/200 [==============================] - 1s 3ms/step - loss: 0.3236 - accuracy: 0.8683 - val_loss: 0.3494 - val_accuracy: 0.8606\n",
      "Epoch 52/100\n",
      "200/200 [==============================] - 1s 3ms/step - loss: 0.3234 - accuracy: 0.8666 - val_loss: 0.3481 - val_accuracy: 0.8625\n",
      "Epoch 53/100\n",
      "200/200 [==============================] - 1s 3ms/step - loss: 0.3229 - accuracy: 0.8667 - val_loss: 0.3486 - val_accuracy: 0.8612\n",
      "Epoch 54/100\n",
      "200/200 [==============================] - 1s 3ms/step - loss: 0.3229 - accuracy: 0.8658 - val_loss: 0.3480 - val_accuracy: 0.8644\n",
      "Epoch 55/100\n",
      "200/200 [==============================] - 1s 3ms/step - loss: 0.3227 - accuracy: 0.8680 - val_loss: 0.3502 - val_accuracy: 0.8594\n",
      "Epoch 56/100\n",
      "200/200 [==============================] - 1s 3ms/step - loss: 0.3231 - accuracy: 0.8672 - val_loss: 0.3480 - val_accuracy: 0.8637\n",
      "Epoch 57/100\n",
      "200/200 [==============================] - 1s 3ms/step - loss: 0.3229 - accuracy: 0.8666 - val_loss: 0.3483 - val_accuracy: 0.8612\n",
      "Epoch 58/100\n",
      "200/200 [==============================] - 1s 3ms/step - loss: 0.3222 - accuracy: 0.8667 - val_loss: 0.3487 - val_accuracy: 0.8650\n",
      "Epoch 59/100\n",
      "200/200 [==============================] - 1s 3ms/step - loss: 0.3217 - accuracy: 0.8662 - val_loss: 0.3505 - val_accuracy: 0.8600\n",
      "Epoch 60/100\n",
      "200/200 [==============================] - 1s 3ms/step - loss: 0.3218 - accuracy: 0.8672 - val_loss: 0.3479 - val_accuracy: 0.8625\n",
      "Epoch 61/100\n",
      "200/200 [==============================] - 1s 3ms/step - loss: 0.3220 - accuracy: 0.8677 - val_loss: 0.3482 - val_accuracy: 0.8619\n",
      "Epoch 62/100\n",
      "200/200 [==============================] - 1s 3ms/step - loss: 0.3220 - accuracy: 0.8687 - val_loss: 0.3485 - val_accuracy: 0.8625\n",
      "Epoch 63/100\n",
      "200/200 [==============================] - 1s 3ms/step - loss: 0.3211 - accuracy: 0.8706 - val_loss: 0.3501 - val_accuracy: 0.8587\n",
      "Epoch 64/100\n",
      "200/200 [==============================] - 1s 3ms/step - loss: 0.3212 - accuracy: 0.8683 - val_loss: 0.3492 - val_accuracy: 0.8606\n",
      "Epoch 65/100\n",
      "200/200 [==============================] - 1s 3ms/step - loss: 0.3214 - accuracy: 0.8678 - val_loss: 0.3494 - val_accuracy: 0.8631\n",
      "Epoch 66/100\n",
      "200/200 [==============================] - 0s 2ms/step - loss: 0.3211 - accuracy: 0.8697 - val_loss: 0.3491 - val_accuracy: 0.8625\n",
      "Epoch 67/100\n",
      "200/200 [==============================] - 0s 2ms/step - loss: 0.3209 - accuracy: 0.8678 - val_loss: 0.3489 - val_accuracy: 0.8606\n",
      "Epoch 68/100\n",
      "200/200 [==============================] - 1s 3ms/step - loss: 0.3208 - accuracy: 0.8700 - val_loss: 0.3508 - val_accuracy: 0.8606\n",
      "Epoch 69/100\n",
      "200/200 [==============================] - 1s 3ms/step - loss: 0.3209 - accuracy: 0.8681 - val_loss: 0.3496 - val_accuracy: 0.8612\n",
      "Epoch 70/100\n",
      "200/200 [==============================] - 1s 3ms/step - loss: 0.3208 - accuracy: 0.8681 - val_loss: 0.3498 - val_accuracy: 0.8606\n",
      "Epoch 71/100\n",
      "200/200 [==============================] - 1s 3ms/step - loss: 0.3207 - accuracy: 0.8694 - val_loss: 0.3490 - val_accuracy: 0.8625\n",
      "Epoch 72/100\n",
      "200/200 [==============================] - 1s 3ms/step - loss: 0.3202 - accuracy: 0.8683 - val_loss: 0.3496 - val_accuracy: 0.8612\n",
      "Epoch 73/100\n",
      "200/200 [==============================] - 1s 3ms/step - loss: 0.3204 - accuracy: 0.8681 - val_loss: 0.3484 - val_accuracy: 0.8644\n",
      "Epoch 74/100\n",
      "200/200 [==============================] - 1s 2ms/step - loss: 0.3197 - accuracy: 0.8700 - val_loss: 0.3497 - val_accuracy: 0.8637\n",
      "Epoch 75/100\n",
      "200/200 [==============================] - 1s 3ms/step - loss: 0.3199 - accuracy: 0.8689 - val_loss: 0.3497 - val_accuracy: 0.8625\n",
      "Epoch 76/100\n",
      "200/200 [==============================] - 1s 3ms/step - loss: 0.3198 - accuracy: 0.8697 - val_loss: 0.3508 - val_accuracy: 0.8600\n",
      "Epoch 77/100\n",
      "200/200 [==============================] - 1s 3ms/step - loss: 0.3199 - accuracy: 0.8683 - val_loss: 0.3510 - val_accuracy: 0.8631\n",
      "Epoch 78/100\n",
      "200/200 [==============================] - 1s 3ms/step - loss: 0.3191 - accuracy: 0.8684 - val_loss: 0.3540 - val_accuracy: 0.8606\n",
      "Epoch 79/100\n",
      "200/200 [==============================] - 0s 2ms/step - loss: 0.3196 - accuracy: 0.8702 - val_loss: 0.3509 - val_accuracy: 0.8625\n",
      "Epoch 80/100\n",
      "200/200 [==============================] - 0s 2ms/step - loss: 0.3192 - accuracy: 0.8669 - val_loss: 0.3503 - val_accuracy: 0.8619\n",
      "Epoch 81/100\n",
      "200/200 [==============================] - 0s 2ms/step - loss: 0.3184 - accuracy: 0.8695 - val_loss: 0.3522 - val_accuracy: 0.8600\n",
      "Epoch 82/100\n",
      "200/200 [==============================] - 1s 3ms/step - loss: 0.3187 - accuracy: 0.8687 - val_loss: 0.3514 - val_accuracy: 0.8612\n",
      "Epoch 83/100\n",
      "200/200 [==============================] - 1s 3ms/step - loss: 0.3186 - accuracy: 0.8680 - val_loss: 0.3513 - val_accuracy: 0.8619\n",
      "Epoch 84/100\n",
      "200/200 [==============================] - 1s 2ms/step - loss: 0.3185 - accuracy: 0.8698 - val_loss: 0.3519 - val_accuracy: 0.8606\n",
      "Epoch 85/100\n",
      "200/200 [==============================] - 1s 3ms/step - loss: 0.3186 - accuracy: 0.8706 - val_loss: 0.3512 - val_accuracy: 0.8631\n",
      "Epoch 86/100\n",
      "200/200 [==============================] - 1s 3ms/step - loss: 0.3180 - accuracy: 0.8705 - val_loss: 0.3528 - val_accuracy: 0.8600\n",
      "Epoch 87/100\n",
      "200/200 [==============================] - 1s 3ms/step - loss: 0.3183 - accuracy: 0.8694 - val_loss: 0.3510 - val_accuracy: 0.8587\n",
      "Epoch 88/100\n",
      "200/200 [==============================] - 1s 3ms/step - loss: 0.3182 - accuracy: 0.8691 - val_loss: 0.3512 - val_accuracy: 0.8606\n",
      "Epoch 89/100\n",
      "200/200 [==============================] - 1s 3ms/step - loss: 0.3182 - accuracy: 0.8689 - val_loss: 0.3522 - val_accuracy: 0.8619\n",
      "Epoch 90/100\n",
      "200/200 [==============================] - 1s 3ms/step - loss: 0.3174 - accuracy: 0.8683 - val_loss: 0.3523 - val_accuracy: 0.8612\n",
      "Epoch 91/100\n",
      "200/200 [==============================] - 1s 3ms/step - loss: 0.3177 - accuracy: 0.8700 - val_loss: 0.3530 - val_accuracy: 0.8587\n",
      "Epoch 92/100\n",
      "200/200 [==============================] - 1s 3ms/step - loss: 0.3177 - accuracy: 0.8692 - val_loss: 0.3513 - val_accuracy: 0.8587\n",
      "Epoch 93/100\n",
      "200/200 [==============================] - 1s 3ms/step - loss: 0.3175 - accuracy: 0.8684 - val_loss: 0.3530 - val_accuracy: 0.8587\n",
      "Epoch 94/100\n",
      "200/200 [==============================] - 1s 3ms/step - loss: 0.3175 - accuracy: 0.8687 - val_loss: 0.3530 - val_accuracy: 0.8581\n",
      "Epoch 95/100\n",
      "200/200 [==============================] - 1s 3ms/step - loss: 0.3177 - accuracy: 0.8689 - val_loss: 0.3528 - val_accuracy: 0.8606\n",
      "Epoch 96/100\n",
      "200/200 [==============================] - 1s 3ms/step - loss: 0.3176 - accuracy: 0.8709 - val_loss: 0.3538 - val_accuracy: 0.8587\n",
      "Epoch 97/100\n",
      "200/200 [==============================] - 1s 3ms/step - loss: 0.3172 - accuracy: 0.8695 - val_loss: 0.3526 - val_accuracy: 0.8594\n",
      "Epoch 98/100\n",
      "200/200 [==============================] - 1s 3ms/step - loss: 0.3171 - accuracy: 0.8703 - val_loss: 0.3522 - val_accuracy: 0.8594\n",
      "Epoch 99/100\n",
      "200/200 [==============================] - 1s 3ms/step - loss: 0.3166 - accuracy: 0.8695 - val_loss: 0.3535 - val_accuracy: 0.8594\n",
      "Epoch 100/100\n",
      "200/200 [==============================] - 1s 3ms/step - loss: 0.3167 - accuracy: 0.8697 - val_loss: 0.3533 - val_accuracy: 0.8631\n"
     ]
    }
   ],
   "source": [
    "history = model.fit(X_train_trf,y_train, epochs=100, validation_split=0.2) #20% of trained data are split into test and with check accuracy score"
   ]
  },
  {
   "cell_type": "code",
   "execution_count": 30,
   "id": "c93d4964",
   "metadata": {
    "execution": {
     "iopub.execute_input": "2023-12-30T16:23:23.796066Z",
     "iopub.status.busy": "2023-12-30T16:23:23.795584Z",
     "iopub.status.idle": "2023-12-30T16:23:23.809477Z",
     "shell.execute_reply": "2023-12-30T16:23:23.808058Z"
    },
    "papermill": {
     "duration": 0.152436,
     "end_time": "2023-12-30T16:23:23.812355",
     "exception": false,
     "start_time": "2023-12-30T16:23:23.659919",
     "status": "completed"
    },
    "tags": []
   },
   "outputs": [
    {
     "data": {
      "text/plain": [
       "[array([[ 0.03527329, -0.33000734, -0.19097804, -0.0269642 ,  0.0161176 ,\n",
       "         -0.00551124,  0.05486184, -0.12733282,  0.26908788,  0.10718586,\n",
       "         -0.0020296 ],\n",
       "        [-0.08680278, -0.51524097,  0.865949  , -0.31027308, -0.00346517,\n",
       "          0.29291853,  1.0334781 ,  0.49508643, -0.34151825,  0.4125151 ,\n",
       "         -0.49399027],\n",
       "        [ 0.00793154,  0.02567463, -0.06216574, -0.40327236, -0.15878041,\n",
       "         -0.24158306, -0.15013589, -0.28958815, -0.09535766,  0.11173474,\n",
       "         -0.09420912],\n",
       "        [-0.6729182 ,  0.9493823 , -0.15212771, -1.0651482 ,  0.14982863,\n",
       "          0.649077  , -0.3195913 ,  0.13888717, -0.34878618, -0.26591605,\n",
       "         -0.02345866],\n",
       "        [ 0.8901644 ,  0.06130157, -0.5395904 ,  0.05439175,  0.9082871 ,\n",
       "          0.72195375,  0.32656303, -0.39377245, -0.5714064 ,  0.27365258,\n",
       "          0.19128913],\n",
       "        [ 0.20729314,  0.08524439, -0.06615611, -0.24744181,  0.25671467,\n",
       "          0.13021141, -0.01777203,  0.37269783,  0.43405923,  0.15771297,\n",
       "         -0.09407936],\n",
       "        [-0.00261953, -0.16368404,  0.056568  ,  0.70269   , -0.14925036,\n",
       "         -0.07762389,  0.5322992 ,  0.74935037, -0.19445467,  0.60393876,\n",
       "         -0.07843076],\n",
       "        [ 0.10536002,  0.14718616,  0.14531805, -0.12030339, -0.25307187,\n",
       "         -0.00797726, -0.31658387,  0.2223863 , -0.20120506, -0.05641016,\n",
       "         -0.04062501],\n",
       "        [ 0.66913503, -0.3822474 ,  0.07654669,  0.39701778, -0.13856663,\n",
       "         -0.43315998,  0.20190743, -0.01768148,  0.48128083, -0.38083348,\n",
       "         -0.51537335],\n",
       "        [-0.02443453,  0.37689015,  0.22609545, -0.6175345 , -0.2721935 ,\n",
       "          0.02191675, -0.1921094 ,  0.05264336, -0.1191244 ,  0.34097117,\n",
       "         -0.08196928],\n",
       "        [ 0.03097379, -0.10811317,  0.05741965,  0.43933833, -0.22676815,\n",
       "          0.03066068, -0.03368927,  0.21062204, -0.2625754 ,  0.32877967,\n",
       "          0.17028363]], dtype=float32),\n",
       " array([ 0.05566951,  0.51215917,  0.11632759,  0.0039089 ,  0.64657843,\n",
       "        -0.21406497, -0.49975502,  0.36333078,  1.3161722 ,  0.3638407 ,\n",
       "         0.57130206], dtype=float32)]"
      ]
     },
     "execution_count": 30,
     "metadata": {},
     "output_type": "execute_result"
    }
   ],
   "source": [
    "model.layers[0].get_weights()"
   ]
  },
  {
   "cell_type": "code",
   "execution_count": 31,
   "id": "b1f0ecd9",
   "metadata": {
    "execution": {
     "iopub.execute_input": "2023-12-30T16:23:24.097586Z",
     "iopub.status.busy": "2023-12-30T16:23:24.096428Z",
     "iopub.status.idle": "2023-12-30T16:23:24.110785Z",
     "shell.execute_reply": "2023-12-30T16:23:24.109657Z"
    },
    "papermill": {
     "duration": 0.166126,
     "end_time": "2023-12-30T16:23:24.114161",
     "exception": false,
     "start_time": "2023-12-30T16:23:23.948035",
     "status": "completed"
    },
    "tags": []
   },
   "outputs": [
    {
     "data": {
      "text/plain": [
       "[array([[-0.91096354,  0.10793548, -0.92467517,  0.29770413,  0.38039383,\n",
       "          0.3672559 , -0.45648322,  0.72354513, -0.10412102, -1.0497309 ,\n",
       "          0.03134105],\n",
       "        [ 0.48904464,  0.14531784, -0.47304106, -0.8544079 , -0.11912471,\n",
       "          0.36203197,  0.39193934, -0.47413516, -0.37988004, -0.13423762,\n",
       "          0.07919092],\n",
       "        [ 0.36157653,  0.19843356,  0.61792165,  0.24290061,  0.1062493 ,\n",
       "         -0.10936854, -0.18746647,  0.43990302, -0.5598421 ,  0.66445   ,\n",
       "         -0.26575878],\n",
       "        [ 0.48806325,  0.3931286 ,  0.34371346, -0.43266782, -0.8828644 ,\n",
       "          0.4715203 , -0.13180354, -0.3849683 ,  0.25694975, -0.11287753,\n",
       "          0.01112317],\n",
       "        [-0.35822183,  0.09044361,  0.19636348,  0.46272334, -0.8161962 ,\n",
       "         -0.44711572, -0.12573071,  0.36644065,  0.38939074, -1.1004189 ,\n",
       "          0.1030537 ],\n",
       "        [ 0.09392405, -0.4607883 ,  0.34611234, -0.21783507, -0.33560222,\n",
       "         -0.36357692, -0.12105604,  1.007254  , -0.19432485, -0.7131978 ,\n",
       "         -0.2949287 ],\n",
       "        [-0.21357168,  0.07084819, -0.42675495,  0.23927054,  0.5439022 ,\n",
       "         -0.86712795,  0.74742925, -0.34477806, -0.6166953 , -0.43140984,\n",
       "         -0.8011928 ],\n",
       "        [ 0.16112885,  0.56295264,  0.23683342, -0.2848186 ,  0.47747305,\n",
       "         -0.26136377, -0.30629346, -0.98395854,  0.11369953, -0.2238476 ,\n",
       "          0.08582643],\n",
       "        [ 0.61074674,  0.15131992,  0.03591293,  0.49337533, -0.29393035,\n",
       "          0.03570378, -0.22465658, -1.6384023 ,  0.33592394, -0.02830431,\n",
       "          0.31932813],\n",
       "        [ 0.03294892,  0.18734133,  0.21705331, -0.49974284,  0.3832522 ,\n",
       "          0.4758335 ,  0.05778397,  0.18651342, -0.00327138, -0.04914558,\n",
       "          0.25509885],\n",
       "        [ 0.03538958,  0.05870151,  0.01011405, -0.23462474,  0.61404353,\n",
       "         -0.5162799 ,  0.5379335 , -0.17073698,  0.4897815 , -0.7522847 ,\n",
       "          0.43935165]], dtype=float32),\n",
       " array([ 0.02713914,  0.2321755 , -0.04913437,  0.1855275 , -0.04612268,\n",
       "         0.40488368,  0.25249   , -0.24539712,  0.80759776, -0.00518199,\n",
       "         0.40399116], dtype=float32)]"
      ]
     },
     "execution_count": 31,
     "metadata": {},
     "output_type": "execute_result"
    }
   ],
   "source": [
    "model.layers[1].get_weights()"
   ]
  },
  {
   "cell_type": "code",
   "execution_count": 32,
   "id": "92a1481d",
   "metadata": {
    "execution": {
     "iopub.execute_input": "2023-12-30T16:23:24.411419Z",
     "iopub.status.busy": "2023-12-30T16:23:24.410231Z",
     "iopub.status.idle": "2023-12-30T16:23:24.423175Z",
     "shell.execute_reply": "2023-12-30T16:23:24.421684Z"
    },
    "papermill": {
     "duration": 0.161377,
     "end_time": "2023-12-30T16:23:24.425708",
     "exception": false,
     "start_time": "2023-12-30T16:23:24.264331",
     "status": "completed"
    },
    "tags": []
   },
   "outputs": [
    {
     "data": {
      "text/plain": [
       "[array([[ 0.8477572 ],\n",
       "        [-0.65102905],\n",
       "        [ 0.9700731 ],\n",
       "        [ 0.8253166 ],\n",
       "        [-1.1061707 ],\n",
       "        [-0.69358444],\n",
       "        [-0.6284147 ],\n",
       "        [ 1.6076257 ],\n",
       "        [-0.96000445],\n",
       "        [ 1.0888644 ],\n",
       "        [-0.48453364]], dtype=float32),\n",
       " array([-0.15856959], dtype=float32)]"
      ]
     },
     "execution_count": 32,
     "metadata": {},
     "output_type": "execute_result"
    }
   ],
   "source": [
    "model.layers[2].get_weights()"
   ]
  },
  {
   "cell_type": "code",
   "execution_count": 33,
   "id": "5a6f91e2",
   "metadata": {
    "execution": {
     "iopub.execute_input": "2023-12-30T16:23:24.708720Z",
     "iopub.status.busy": "2023-12-30T16:23:24.707835Z",
     "iopub.status.idle": "2023-12-30T16:23:24.960906Z",
     "shell.execute_reply": "2023-12-30T16:23:24.959325Z"
    },
    "papermill": {
     "duration": 0.394979,
     "end_time": "2023-12-30T16:23:24.964290",
     "exception": false,
     "start_time": "2023-12-30T16:23:24.569311",
     "status": "completed"
    },
    "tags": []
   },
   "outputs": [
    {
     "name": "stdout",
     "output_type": "stream",
     "text": [
      "63/63 [==============================] - 0s 1ms/step\n"
     ]
    },
    {
     "data": {
      "text/plain": [
       "array([[0.22835371],\n",
       "       [0.22298719],\n",
       "       [0.18244828],\n",
       "       ...,\n",
       "       [0.26416364],\n",
       "       [0.16849822],\n",
       "       [0.20250551]], dtype=float32)"
      ]
     },
     "execution_count": 33,
     "metadata": {},
     "output_type": "execute_result"
    }
   ],
   "source": [
    "model.predict(X_test_trf)"
   ]
  },
  {
   "cell_type": "code",
   "execution_count": 34,
   "id": "727888b7",
   "metadata": {
    "execution": {
     "iopub.execute_input": "2023-12-30T16:23:25.249204Z",
     "iopub.status.busy": "2023-12-30T16:23:25.248775Z",
     "iopub.status.idle": "2023-12-30T16:23:25.440974Z",
     "shell.execute_reply": "2023-12-30T16:23:25.439594Z"
    },
    "papermill": {
     "duration": 0.340021,
     "end_time": "2023-12-30T16:23:25.443701",
     "exception": false,
     "start_time": "2023-12-30T16:23:25.103680",
     "status": "completed"
    },
    "tags": []
   },
   "outputs": [
    {
     "name": "stdout",
     "output_type": "stream",
     "text": [
      "63/63 [==============================] - 0s 1ms/step\n"
     ]
    },
    {
     "data": {
      "text/plain": [
       "array([[0],\n",
       "       [0],\n",
       "       [0],\n",
       "       ...,\n",
       "       [0],\n",
       "       [0],\n",
       "       [0]])"
      ]
     },
     "execution_count": 34,
     "metadata": {},
     "output_type": "execute_result"
    }
   ],
   "source": [
    "y_log  = model.predict(X_test_trf)\n",
    "\n",
    "y_pred = np.where(y_log > 0.5, 1 , 0)\n",
    "y_pred"
   ]
  },
  {
   "cell_type": "code",
   "execution_count": 35,
   "id": "b85eee52",
   "metadata": {
    "execution": {
     "iopub.execute_input": "2023-12-30T16:23:25.720793Z",
     "iopub.status.busy": "2023-12-30T16:23:25.718714Z",
     "iopub.status.idle": "2023-12-30T16:23:25.727619Z",
     "shell.execute_reply": "2023-12-30T16:23:25.726703Z"
    },
    "papermill": {
     "duration": 0.151274,
     "end_time": "2023-12-30T16:23:25.730005",
     "exception": false,
     "start_time": "2023-12-30T16:23:25.578731",
     "status": "completed"
    },
    "tags": []
   },
   "outputs": [
    {
     "data": {
      "text/plain": [
       "0.8585"
      ]
     },
     "execution_count": 35,
     "metadata": {},
     "output_type": "execute_result"
    }
   ],
   "source": [
    "\n",
    "from sklearn.metrics import accuracy_score\n",
    "accuracy_score(y_test,y_pred)"
   ]
  },
  {
   "cell_type": "code",
   "execution_count": 36,
   "id": "8ae4e247",
   "metadata": {
    "execution": {
     "iopub.execute_input": "2023-12-30T16:23:26.008077Z",
     "iopub.status.busy": "2023-12-30T16:23:26.007452Z",
     "iopub.status.idle": "2023-12-30T16:23:26.011510Z",
     "shell.execute_reply": "2023-12-30T16:23:26.010718Z"
    },
    "papermill": {
     "duration": 0.146418,
     "end_time": "2023-12-30T16:23:26.013897",
     "exception": false,
     "start_time": "2023-12-30T16:23:25.867479",
     "status": "completed"
    },
    "tags": []
   },
   "outputs": [],
   "source": [
    "import matplotlib.pyplot as plt"
   ]
  },
  {
   "cell_type": "code",
   "execution_count": 37,
   "id": "9f8abfe7",
   "metadata": {
    "execution": {
     "iopub.execute_input": "2023-12-30T16:23:26.293476Z",
     "iopub.status.busy": "2023-12-30T16:23:26.292822Z",
     "iopub.status.idle": "2023-12-30T16:23:26.304930Z",
     "shell.execute_reply": "2023-12-30T16:23:26.303610Z"
    },
    "papermill": {
     "duration": 0.15445,
     "end_time": "2023-12-30T16:23:26.308051",
     "exception": false,
     "start_time": "2023-12-30T16:23:26.153601",
     "status": "completed"
    },
    "tags": []
   },
   "outputs": [
    {
     "data": {
      "text/plain": [
       "{'loss': [0.5228990316390991,\n",
       "  0.44887039065361023,\n",
       "  0.43107348680496216,\n",
       "  0.4209999740123749,\n",
       "  0.41365471482276917,\n",
       "  0.40551435947418213,\n",
       "  0.3969530761241913,\n",
       "  0.3861449956893921,\n",
       "  0.37475356459617615,\n",
       "  0.36461853981018066,\n",
       "  0.35598260164260864,\n",
       "  0.351045697927475,\n",
       "  0.34668979048728943,\n",
       "  0.34386253356933594,\n",
       "  0.3417321741580963,\n",
       "  0.34036123752593994,\n",
       "  0.3381994962692261,\n",
       "  0.3376206159591675,\n",
       "  0.3359273076057434,\n",
       "  0.33551105856895447,\n",
       "  0.3345184624195099,\n",
       "  0.33406656980514526,\n",
       "  0.3327513039112091,\n",
       "  0.33244606852531433,\n",
       "  0.3312809467315674,\n",
       "  0.331076443195343,\n",
       "  0.3301350474357605,\n",
       "  0.3301433324813843,\n",
       "  0.329757958650589,\n",
       "  0.3287769556045532,\n",
       "  0.32859334349632263,\n",
       "  0.32776957750320435,\n",
       "  0.32713034749031067,\n",
       "  0.32734188437461853,\n",
       "  0.32662954926490784,\n",
       "  0.3265661299228668,\n",
       "  0.3261626064777374,\n",
       "  0.32575884461402893,\n",
       "  0.3259330987930298,\n",
       "  0.32535645365715027,\n",
       "  0.32572364807128906,\n",
       "  0.32465648651123047,\n",
       "  0.3248731195926666,\n",
       "  0.32510167360305786,\n",
       "  0.3244556486606598,\n",
       "  0.32404425740242004,\n",
       "  0.3242533802986145,\n",
       "  0.32433077692985535,\n",
       "  0.3234819173812866,\n",
       "  0.3234695792198181,\n",
       "  0.32361292839050293,\n",
       "  0.32339030504226685,\n",
       "  0.3229283094406128,\n",
       "  0.32288071513175964,\n",
       "  0.32267242670059204,\n",
       "  0.3230937719345093,\n",
       "  0.3228878676891327,\n",
       "  0.32215869426727295,\n",
       "  0.3217122256755829,\n",
       "  0.321818470954895,\n",
       "  0.3219700753688812,\n",
       "  0.3219866156578064,\n",
       "  0.32106155157089233,\n",
       "  0.3211950957775116,\n",
       "  0.3213796615600586,\n",
       "  0.3211009204387665,\n",
       "  0.32087504863739014,\n",
       "  0.3207537531852722,\n",
       "  0.3208919167518616,\n",
       "  0.3207789957523346,\n",
       "  0.32067936658859253,\n",
       "  0.32018405199050903,\n",
       "  0.3203689157962799,\n",
       "  0.31965649127960205,\n",
       "  0.3198522627353668,\n",
       "  0.3197762966156006,\n",
       "  0.3198834955692291,\n",
       "  0.31905776262283325,\n",
       "  0.3196226954460144,\n",
       "  0.31916186213493347,\n",
       "  0.31835490465164185,\n",
       "  0.318657785654068,\n",
       "  0.31863150000572205,\n",
       "  0.3184954524040222,\n",
       "  0.31858211755752563,\n",
       "  0.31803297996520996,\n",
       "  0.3182540833950043,\n",
       "  0.31822270154953003,\n",
       "  0.31823617219924927,\n",
       "  0.3174055218696594,\n",
       "  0.31766000390052795,\n",
       "  0.3177168667316437,\n",
       "  0.3175366222858429,\n",
       "  0.3174525499343872,\n",
       "  0.3176702558994293,\n",
       "  0.3176068961620331,\n",
       "  0.3171535134315491,\n",
       "  0.31714385747909546,\n",
       "  0.3165571689605713,\n",
       "  0.3166619837284088],\n",
       " 'accuracy': [0.7853124737739563,\n",
       "  0.8104687333106995,\n",
       "  0.8129687309265137,\n",
       "  0.8179687261581421,\n",
       "  0.8237500190734863,\n",
       "  0.831250011920929,\n",
       "  0.8348437547683716,\n",
       "  0.8389062285423279,\n",
       "  0.8454687595367432,\n",
       "  0.8514062762260437,\n",
       "  0.8553125262260437,\n",
       "  0.8548437356948853,\n",
       "  0.8587499856948853,\n",
       "  0.8592187762260437,\n",
       "  0.8604687452316284,\n",
       "  0.8609374761581421,\n",
       "  0.8606250286102295,\n",
       "  0.8607812523841858,\n",
       "  0.8615624904632568,\n",
       "  0.8609374761581421,\n",
       "  0.8621875047683716,\n",
       "  0.8618749976158142,\n",
       "  0.8628125190734863,\n",
       "  0.8615624904632568,\n",
       "  0.864062488079071,\n",
       "  0.8639062643051147,\n",
       "  0.862500011920929,\n",
       "  0.8634374737739563,\n",
       "  0.8631250262260437,\n",
       "  0.8634374737739563,\n",
       "  0.8618749976158142,\n",
       "  0.8623437285423279,\n",
       "  0.8651562333106995,\n",
       "  0.8642187714576721,\n",
       "  0.864062488079071,\n",
       "  0.8643749952316284,\n",
       "  0.8659374713897705,\n",
       "  0.8657812476158142,\n",
       "  0.866406261920929,\n",
       "  0.866406261920929,\n",
       "  0.8645312786102295,\n",
       "  0.8643749952316284,\n",
       "  0.8660937547683716,\n",
       "  0.864062488079071,\n",
       "  0.8653125166893005,\n",
       "  0.8671875,\n",
       "  0.8665624856948853,\n",
       "  0.8657812476158142,\n",
       "  0.866406261920929,\n",
       "  0.8665624856948853,\n",
       "  0.8682812452316284,\n",
       "  0.8665624856948853,\n",
       "  0.8667187690734863,\n",
       "  0.8657812476158142,\n",
       "  0.867968738079071,\n",
       "  0.8671875,\n",
       "  0.8665624856948853,\n",
       "  0.8667187690734863,\n",
       "  0.8662499785423279,\n",
       "  0.8671875,\n",
       "  0.8676562309265137,\n",
       "  0.8687499761581421,\n",
       "  0.8706250190734863,\n",
       "  0.8682812452316284,\n",
       "  0.8678125143051147,\n",
       "  0.8696874976158142,\n",
       "  0.8678125143051147,\n",
       "  0.8700000047683716,\n",
       "  0.8681250214576721,\n",
       "  0.8681250214576721,\n",
       "  0.8693749904632568,\n",
       "  0.8682812452316284,\n",
       "  0.8681250214576721,\n",
       "  0.8700000047683716,\n",
       "  0.8689062595367432,\n",
       "  0.8696874976158142,\n",
       "  0.8682812452316284,\n",
       "  0.8684375286102295,\n",
       "  0.8701562285423279,\n",
       "  0.8668749928474426,\n",
       "  0.8695312738418579,\n",
       "  0.8687499761581421,\n",
       "  0.867968738079071,\n",
       "  0.8698437213897705,\n",
       "  0.8706250190734863,\n",
       "  0.8704687356948853,\n",
       "  0.8693749904632568,\n",
       "  0.8690624833106995,\n",
       "  0.8689062595367432,\n",
       "  0.8682812452316284,\n",
       "  0.8700000047683716,\n",
       "  0.8692187666893005,\n",
       "  0.8684375286102295,\n",
       "  0.8687499761581421,\n",
       "  0.8689062595367432,\n",
       "  0.8709375262260437,\n",
       "  0.8695312738418579,\n",
       "  0.870312511920929,\n",
       "  0.8695312738418579,\n",
       "  0.8696874976158142],\n",
       " 'val_loss': [0.472837895154953,\n",
       "  0.4484931230545044,\n",
       "  0.43795403838157654,\n",
       "  0.431264191865921,\n",
       "  0.4246114492416382,\n",
       "  0.4183979332447052,\n",
       "  0.4070779085159302,\n",
       "  0.39679116010665894,\n",
       "  0.38655444979667664,\n",
       "  0.3779091238975525,\n",
       "  0.3725661337375641,\n",
       "  0.3672022521495819,\n",
       "  0.36413782835006714,\n",
       "  0.36141976714134216,\n",
       "  0.36014607548713684,\n",
       "  0.35928642749786377,\n",
       "  0.35809287428855896,\n",
       "  0.3591093420982361,\n",
       "  0.3574637174606323,\n",
       "  0.35582488775253296,\n",
       "  0.35711586475372314,\n",
       "  0.35522934794425964,\n",
       "  0.35416170954704285,\n",
       "  0.3538391590118408,\n",
       "  0.35628920793533325,\n",
       "  0.3534829318523407,\n",
       "  0.35273727774620056,\n",
       "  0.35146769881248474,\n",
       "  0.35132667422294617,\n",
       "  0.35175448656082153,\n",
       "  0.3512221872806549,\n",
       "  0.3526539206504822,\n",
       "  0.35290443897247314,\n",
       "  0.3510536253452301,\n",
       "  0.35128235816955566,\n",
       "  0.3506039083003998,\n",
       "  0.35112684965133667,\n",
       "  0.35197293758392334,\n",
       "  0.34985482692718506,\n",
       "  0.3489629030227661,\n",
       "  0.3497709333896637,\n",
       "  0.34921157360076904,\n",
       "  0.34929850697517395,\n",
       "  0.3489523231983185,\n",
       "  0.34884461760520935,\n",
       "  0.3503912091255188,\n",
       "  0.3500139117240906,\n",
       "  0.3489806354045868,\n",
       "  0.35004279017448425,\n",
       "  0.34941795468330383,\n",
       "  0.34940120577812195,\n",
       "  0.3481373190879822,\n",
       "  0.3485696017742157,\n",
       "  0.3480159342288971,\n",
       "  0.3502030074596405,\n",
       "  0.3480204641819,\n",
       "  0.34829747676849365,\n",
       "  0.34871944785118103,\n",
       "  0.3504576086997986,\n",
       "  0.34792670607566833,\n",
       "  0.34821411967277527,\n",
       "  0.3485240638256073,\n",
       "  0.35008957982063293,\n",
       "  0.34915342926979065,\n",
       "  0.3494119644165039,\n",
       "  0.34913089871406555,\n",
       "  0.34886112809181213,\n",
       "  0.35084250569343567,\n",
       "  0.34960445761680603,\n",
       "  0.3498059809207916,\n",
       "  0.3490201234817505,\n",
       "  0.3495640158653259,\n",
       "  0.34842613339424133,\n",
       "  0.34968632459640503,\n",
       "  0.3497328460216522,\n",
       "  0.3508338928222656,\n",
       "  0.3509584665298462,\n",
       "  0.3540329039096832,\n",
       "  0.350942462682724,\n",
       "  0.35030096769332886,\n",
       "  0.35218262672424316,\n",
       "  0.35143786668777466,\n",
       "  0.35125377774238586,\n",
       "  0.3519238531589508,\n",
       "  0.3512203097343445,\n",
       "  0.3528425097465515,\n",
       "  0.3510276675224304,\n",
       "  0.35121995210647583,\n",
       "  0.3522092401981354,\n",
       "  0.3522998094558716,\n",
       "  0.35301414132118225,\n",
       "  0.3513144254684448,\n",
       "  0.35304194688796997,\n",
       "  0.3530420660972595,\n",
       "  0.3528369069099426,\n",
       "  0.3537992835044861,\n",
       "  0.3525581657886505,\n",
       "  0.3522438108921051,\n",
       "  0.35348740220069885,\n",
       "  0.35327842831611633],\n",
       " 'val_accuracy': [0.8037499785423279,\n",
       "  0.809374988079071,\n",
       "  0.815625011920929,\n",
       "  0.8131250143051147,\n",
       "  0.815625011920929,\n",
       "  0.8199999928474426,\n",
       "  0.8224999904632568,\n",
       "  0.8299999833106995,\n",
       "  0.8349999785423279,\n",
       "  0.8381249904632568,\n",
       "  0.8475000262260437,\n",
       "  0.8537499904632568,\n",
       "  0.8537499904632568,\n",
       "  0.856249988079071,\n",
       "  0.8581249713897705,\n",
       "  0.8568750023841858,\n",
       "  0.856249988079071,\n",
       "  0.8537499904632568,\n",
       "  0.8575000166893005,\n",
       "  0.8575000166893005,\n",
       "  0.856249988079071,\n",
       "  0.8606250286102295,\n",
       "  0.8587499856948853,\n",
       "  0.8612499833106995,\n",
       "  0.8581249713897705,\n",
       "  0.8556249737739563,\n",
       "  0.8612499833106995,\n",
       "  0.8618749976158142,\n",
       "  0.8600000143051147,\n",
       "  0.8587499856948853,\n",
       "  0.8631250262260437,\n",
       "  0.8556249737739563,\n",
       "  0.8568750023841858,\n",
       "  0.862500011920929,\n",
       "  0.8612499833106995,\n",
       "  0.8612499833106995,\n",
       "  0.8612499833106995,\n",
       "  0.8600000143051147,\n",
       "  0.8600000143051147,\n",
       "  0.8606250286102295,\n",
       "  0.8600000143051147,\n",
       "  0.862500011920929,\n",
       "  0.8606250286102295,\n",
       "  0.8643749952316284,\n",
       "  0.8612499833106995,\n",
       "  0.8600000143051147,\n",
       "  0.8600000143051147,\n",
       "  0.862500011920929,\n",
       "  0.862500011920929,\n",
       "  0.8612499833106995,\n",
       "  0.8606250286102295,\n",
       "  0.862500011920929,\n",
       "  0.8612499833106995,\n",
       "  0.8643749952316284,\n",
       "  0.859375,\n",
       "  0.8637499809265137,\n",
       "  0.8612499833106995,\n",
       "  0.8650000095367432,\n",
       "  0.8600000143051147,\n",
       "  0.862500011920929,\n",
       "  0.8618749976158142,\n",
       "  0.862500011920929,\n",
       "  0.8587499856948853,\n",
       "  0.8606250286102295,\n",
       "  0.8631250262260437,\n",
       "  0.862500011920929,\n",
       "  0.8606250286102295,\n",
       "  0.8606250286102295,\n",
       "  0.8612499833106995,\n",
       "  0.8606250286102295,\n",
       "  0.862500011920929,\n",
       "  0.8612499833106995,\n",
       "  0.8643749952316284,\n",
       "  0.8637499809265137,\n",
       "  0.862500011920929,\n",
       "  0.8600000143051147,\n",
       "  0.8631250262260437,\n",
       "  0.8606250286102295,\n",
       "  0.862500011920929,\n",
       "  0.8618749976158142,\n",
       "  0.8600000143051147,\n",
       "  0.8612499833106995,\n",
       "  0.8618749976158142,\n",
       "  0.8606250286102295,\n",
       "  0.8631250262260437,\n",
       "  0.8600000143051147,\n",
       "  0.8587499856948853,\n",
       "  0.8606250286102295,\n",
       "  0.8618749976158142,\n",
       "  0.8612499833106995,\n",
       "  0.8587499856948853,\n",
       "  0.8587499856948853,\n",
       "  0.8587499856948853,\n",
       "  0.8581249713897705,\n",
       "  0.8606250286102295,\n",
       "  0.8587499856948853,\n",
       "  0.859375,\n",
       "  0.859375,\n",
       "  0.859375,\n",
       "  0.8631250262260437]}"
      ]
     },
     "execution_count": 37,
     "metadata": {},
     "output_type": "execute_result"
    }
   ],
   "source": [
    "history.history"
   ]
  },
  {
   "cell_type": "code",
   "execution_count": 38,
   "id": "f59db5a4",
   "metadata": {
    "execution": {
     "iopub.execute_input": "2023-12-30T16:23:26.587840Z",
     "iopub.status.busy": "2023-12-30T16:23:26.587314Z",
     "iopub.status.idle": "2023-12-30T16:23:26.892555Z",
     "shell.execute_reply": "2023-12-30T16:23:26.891333Z"
    },
    "papermill": {
     "duration": 0.445728,
     "end_time": "2023-12-30T16:23:26.895211",
     "exception": false,
     "start_time": "2023-12-30T16:23:26.449483",
     "status": "completed"
    },
    "tags": []
   },
   "outputs": [
    {
     "data": {
      "text/plain": [
       "[<matplotlib.lines.Line2D at 0x7febf9f02cb0>]"
      ]
     },
     "execution_count": 38,
     "metadata": {},
     "output_type": "execute_result"
    },
    {
     "data": {
      "image/png": "[encoded data removed]",
      "text/plain": [
       "<Figure size 640x480 with 1 Axes>"
      ]
     },
     "metadata": {},
     "output_type": "display_data"
    }
   ],
   "source": [
    "plt.plot(history.history['loss'])\n",
    "plt.plot(history.history['val_loss'])"
   ]
  },
  {
   "cell_type": "code",
   "execution_count": 39,
   "id": "deb6c085",
   "metadata": {
    "execution": {
     "iopub.execute_input": "2023-12-30T16:23:27.174747Z",
     "iopub.status.busy": "2023-12-30T16:23:27.173735Z",
     "iopub.status.idle": "2023-12-30T16:23:27.462099Z",
     "shell.execute_reply": "2023-12-30T16:23:27.460768Z"
    },
    "papermill": {
     "duration": 0.428061,
     "end_time": "2023-12-30T16:23:27.466101",
     "exception": false,
     "start_time": "2023-12-30T16:23:27.038040",
     "status": "completed"
    },
    "tags": []
   },
   "outputs": [
    {
     "data": {
      "text/plain": [
       "[<matplotlib.lines.Line2D at 0x7febf9fbc550>]"
      ]
     },
     "execution_count": 39,
     "metadata": {},
     "output_type": "execute_result"
    },
    {
     "data": {
      "image/png": "[encoded data removed]",
      "text/plain": [
       "<Figure size 640x480 with 1 Axes>"
      ]
     },
     "metadata": {},
     "output_type": "display_data"
    }
   ],
   "source": [
    "plt.plot(history.history['accuracy'])\n",
    "plt.plot(history.history['val_accuracy'])"
   ]
  },
  {
   "cell_type": "code",
   "execution_count": 40,
   "id": "f16d597d",
   "metadata": {
    "execution": {
     "iopub.execute_input": "2023-12-30T16:23:27.739377Z",
     "iopub.status.busy": "2023-12-30T16:23:27.738340Z",
     "iopub.status.idle": "2023-12-30T16:23:28.126006Z",
     "shell.execute_reply": "2023-12-30T16:23:28.124629Z"
    },
    "papermill": {
     "duration": 0.528179,
     "end_time": "2023-12-30T16:23:28.129612",
     "exception": false,
     "start_time": "2023-12-30T16:23:27.601433",
     "status": "completed"
    },
    "tags": []
   },
   "outputs": [],
   "source": [
    "import seaborn as sns"
   ]
  },
  {
   "cell_type": "code",
   "execution_count": 41,
   "id": "c7eacae3",
   "metadata": {
    "execution": {
     "iopub.execute_input": "2023-12-30T16:23:28.404510Z",
     "iopub.status.busy": "2023-12-30T16:23:28.403726Z",
     "iopub.status.idle": "2023-12-30T16:23:28.783645Z",
     "shell.execute_reply": "2023-12-30T16:23:28.782476Z"
    },
    "papermill": {
     "duration": 0.520071,
     "end_time": "2023-12-30T16:23:28.786338",
     "exception": false,
     "start_time": "2023-12-30T16:23:28.266267",
     "status": "completed"
    },
    "tags": []
   },
   "outputs": [
    {
     "data": {
      "text/plain": [
       "<Axes: ylabel='Density'>"
      ]
     },
     "execution_count": 41,
     "metadata": {},
     "output_type": "execute_result"
    },
    {
     "data": {
      "image/png": "[encoded data removed]",
      "text/plain": [
       "<Figure size 640x480 with 1 Axes>"
      ]
     },
     "metadata": {},
     "output_type": "display_data"
    }
   ],
   "source": [
    "sns.kdeplot(history.history['loss'])\n",
    "sns.kdeplot(history.history['val_loss'])"
   ]
  },
  {
   "cell_type": "code",
   "execution_count": null,
   "id": "8c62508b",
   "metadata": {
    "papermill": {
     "duration": 0.142854,
     "end_time": "2023-12-30T16:23:29.068871",
     "exception": false,
     "start_time": "2023-12-30T16:23:28.926017",
     "status": "completed"
    },
    "tags": []
   },
   "outputs": [],
   "source": []
  }
 ],
 "metadata": {
  "kaggle": {
   "accelerator": "none",
   "dataSources": [
    {
     "datasetId": 869651,
     "sourceId": 1481789,
     "sourceType": "datasetVersion"
    }
   ],
   "dockerImageVersionId": 30626,
   "isGpuEnabled": false,
   "isInternetEnabled": false,
   "language": "python",
   "sourceType": "notebook"
  },
  "kernelspec": {
   "display_name": "Python 3",
   "language": "python",
   "name": "python3"
  },
  "language_info": {
   "codemirror_mode": {
    "name": "ipython",
    "version": 3
   },
   "file_extension": ".py",
   "mimetype": "text/x-python",
   "name": "python",
   "nbconvert_exporter": "python",
   "pygments_lexer": "ipython3",
   "version": "3.10.12"
  },
  "papermill": {
   "default_parameters": {},
   "duration": 92.600775,
   "end_time": "2023-12-30T16:23:31.944142",
   "environment_variables": {},
   "exception": null,
   "input_path": "__notebook__.ipynb",
   "output_path": "__notebook__.ipynb",
   "parameters": {},
   "start_time": "2023-12-30T16:21:59.343367",
   "version": "2.4.0"
  }
 },
 "nbformat": 4,
 "nbformat_minor": 5
}
