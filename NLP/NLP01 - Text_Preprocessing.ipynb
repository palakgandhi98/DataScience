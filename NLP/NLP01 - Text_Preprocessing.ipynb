{
 "cells": [
  {
   "cell_type": "code",
   "execution_count": 3,
   "metadata": {},
   "outputs": [],
   "source": [
    "para = \"\"\"Narendra Damodardas Modi (Gujarati: [ˈnəɾendɾə dɑmodəɾˈdɑs ˈmodiː] ⓘ; born 17 September 1950)[b] is an Indian politician who has served as the 14th prime minister of India since May 2014. Modi was the chief minister of Gujarat from 2001 to 2014 and is the Member of Parliament (MP) for Varanasi. He is a member of the Bharatiya Janata Party (BJP) and of the Rashtriya Swayamsevak Sangh (RSS), a right wing Hindu nationalist paramilitary volunteer organisation. He is the longest-serving prime minister from outside the Indian National Congress.\n",
    "\n",
    "Modi was born and raised in Vadnagar in northeastern Gujarat, where he completed his secondary education. He was introduced to the RSS at the age of eight. His account of helping his father sell tea at the Vadnagar railway station has not been reliably corroborated. At age 18, he was married to Jashodaben Modi, whom he abandoned soon after, only publicly acknowledging her four decades later when legally required to do so. Modi became a full-time worker for the RSS in Gujarat in 1971. The RSS assigned him to the BJP in 1985 and he held several positions within the party hierarchy until 2001, rising to the rank of general secretary.\"\"\"\n"
   ]
  },
  {
   "cell_type": "code",
   "execution_count": 4,
   "metadata": {},
   "outputs": [
    {
     "data": {
      "text/plain": [
       "'Narendra Damodardas Modi (Gujarati: [ˈnəɾendɾə dɑmodəɾˈdɑs ˈmodiː] ⓘ; born 17 September 1950)[b] is an Indian politician who has served as the 14th prime minister of India since May 2014. Modi was the chief minister of Gujarat from 2001 to 2014 and is the Member of Parliament (MP) for Varanasi. He is a member of the Bharatiya Janata Party (BJP) and of the Rashtriya Swayamsevak Sangh (RSS), a right wing Hindu nationalist paramilitary volunteer organisation. He is the longest-serving prime minister from outside the Indian National Congress.\\n\\nModi was born and raised in Vadnagar in northeastern Gujarat, where he completed his secondary education. He was introduced to the RSS at the age of eight. His account of helping his father sell tea at the Vadnagar railway station has not been reliably corroborated. At age 18, he was married to Jashodaben Modi, whom he abandoned soon after, only publicly acknowledging her four decades later when legally required to do so. Modi became a full-time worker for the RSS in Gujarat in 1971. The RSS assigned him to the BJP in 1985 and he held several positions within the party hierarchy until 2001, rising to the rank of general secretary.'"
      ]
     },
     "execution_count": 4,
     "metadata": {},
     "output_type": "execute_result"
    }
   ],
   "source": [
    "para"
   ]
  },
  {
   "cell_type": "code",
   "execution_count": 5,
   "metadata": {},
   "outputs": [],
   "source": [
    "import nltk\n",
    "from nltk.stem import PorterStemmer\n",
    "from nltk.corpus import stopwords"
   ]
  },
  {
   "cell_type": "markdown",
   "metadata": {},
   "source": [
    "Tokenization -->convert Paragraph-Sntence to Words"
   ]
  },
  {
   "cell_type": "code",
   "execution_count": 6,
   "metadata": {},
   "outputs": [
    {
     "name": "stderr",
     "output_type": "stream",
     "text": [
      "[nltk_data] Downloading package punkt to\n",
      "[nltk_data]     C:\\Users\\Strimmerz\\AppData\\Roaming\\nltk_data...\n",
      "[nltk_data]   Package punkt is already up-to-date!\n"
     ]
    },
    {
     "data": {
      "text/plain": [
       "['Narendra Damodardas Modi (Gujarati: [ˈnəɾendɾə dɑmodəɾˈdɑs ˈmodiː] ⓘ; born 17 September 1950)[b] is an Indian politician who has served as the 14th prime minister of India since May 2014.',\n",
       " 'Modi was the chief minister of Gujarat from 2001 to 2014 and is the Member of Parliament (MP) for Varanasi.',\n",
       " 'He is a member of the Bharatiya Janata Party (BJP) and of the Rashtriya Swayamsevak Sangh (RSS), a right wing Hindu nationalist paramilitary volunteer organisation.',\n",
       " 'He is the longest-serving prime minister from outside the Indian National Congress.',\n",
       " 'Modi was born and raised in Vadnagar in northeastern Gujarat, where he completed his secondary education.',\n",
       " 'He was introduced to the RSS at the age of eight.',\n",
       " 'His account of helping his father sell tea at the Vadnagar railway station has not been reliably corroborated.',\n",
       " 'At age 18, he was married to Jashodaben Modi, whom he abandoned soon after, only publicly acknowledging her four decades later when legally required to do so.',\n",
       " 'Modi became a full-time worker for the RSS in Gujarat in 1971.',\n",
       " 'The RSS assigned him to the BJP in 1985 and he held several positions within the party hierarchy until 2001, rising to the rank of general secretary.']"
      ]
     },
     "execution_count": 6,
     "metadata": {},
     "output_type": "execute_result"
    }
   ],
   "source": [
    "nltk.download('punkt')\n",
    "sen = nltk.sent_tokenize(para)\n",
    "sen"
   ]
  },
  {
   "cell_type": "code",
   "execution_count": 7,
   "metadata": {},
   "outputs": [
    {
     "data": {
      "text/plain": [
       "'He was introduced to the RSS at the age of eight.'"
      ]
     },
     "execution_count": 7,
     "metadata": {},
     "output_type": "execute_result"
    }
   ],
   "source": [
    "sen[5]"
   ]
  },
  {
   "cell_type": "code",
   "execution_count": 8,
   "metadata": {},
   "outputs": [
    {
     "data": {
      "text/plain": [
       "10"
      ]
     },
     "execution_count": 8,
     "metadata": {},
     "output_type": "execute_result"
    }
   ],
   "source": [
    "len(sen)"
   ]
  },
  {
   "cell_type": "markdown",
   "metadata": {},
   "source": [
    "Steaming --> convert -->base word"
   ]
  },
  {
   "cell_type": "code",
   "execution_count": 9,
   "metadata": {},
   "outputs": [
    {
     "data": {
      "text/plain": [
       "'go'"
      ]
     },
     "execution_count": 9,
     "metadata": {},
     "output_type": "execute_result"
    }
   ],
   "source": [
    "steam = PorterStemmer()\n",
    "steam.stem('going')"
   ]
  },
  {
   "cell_type": "code",
   "execution_count": 10,
   "metadata": {},
   "outputs": [
    {
     "data": {
      "text/plain": [
       "'histori'"
      ]
     },
     "execution_count": 10,
     "metadata": {},
     "output_type": "execute_result"
    }
   ],
   "source": [
    "steam.stem('history')\n"
   ]
  },
  {
   "cell_type": "code",
   "execution_count": 11,
   "metadata": {},
   "outputs": [
    {
     "data": {
      "text/plain": [
       "'think'"
      ]
     },
     "execution_count": 11,
     "metadata": {},
     "output_type": "execute_result"
    }
   ],
   "source": [
    "steam.stem('thinking')\n"
   ]
  },
  {
   "cell_type": "code",
   "execution_count": 12,
   "metadata": {},
   "outputs": [
    {
     "name": "stderr",
     "output_type": "stream",
     "text": [
      "[nltk_data] Downloading package wordnet to\n",
      "[nltk_data]     C:\\Users\\Strimmerz\\AppData\\Roaming\\nltk_data...\n",
      "[nltk_data]   Package wordnet is already up-to-date!\n"
     ]
    },
    {
     "data": {
      "text/plain": [
       "True"
      ]
     },
     "execution_count": 12,
     "metadata": {},
     "output_type": "execute_result"
    }
   ],
   "source": [
    "from nltk.stem import WordNetLemmatizer\n",
    "nltk.download('wordnet')"
   ]
  },
  {
   "cell_type": "code",
   "execution_count": 13,
   "metadata": {},
   "outputs": [],
   "source": [
    "lemmat = WordNetLemmatizer()"
   ]
  },
  {
   "cell_type": "code",
   "execution_count": 14,
   "metadata": {},
   "outputs": [
    {
     "data": {
      "text/plain": [
       "'history'"
      ]
     },
     "execution_count": 14,
     "metadata": {},
     "output_type": "execute_result"
    }
   ],
   "source": [
    "lemmat.lemmatize('history')"
   ]
  },
  {
   "cell_type": "code",
   "execution_count": 15,
   "metadata": {},
   "outputs": [],
   "source": [
    "import re"
   ]
  },
  {
   "cell_type": "code",
   "execution_count": 16,
   "metadata": {},
   "outputs": [],
   "source": [
    "corpus = []\n",
    "for i in range(len(sen)):\n",
    "    review = re.sub('[^a-zA-z]',' ',sen[i])\n",
    "    review = review.lower()\n",
    "    corpus.append(review)   "
   ]
  },
  {
   "cell_type": "code",
   "execution_count": 17,
   "metadata": {},
   "outputs": [
    {
     "data": {
      "text/plain": [
       "['narendra damodardas modi  gujarati  [ n  end   d mod   d s  modi ]    born    september      [b] is an indian politician who has served as the   th prime minister of india since may      ',\n",
       " 'modi was the chief minister of gujarat from      to      and is the member of parliament  mp  for varanasi ',\n",
       " 'he is a member of the bharatiya janata party  bjp  and of the rashtriya swayamsevak sangh  rss   a right wing hindu nationalist paramilitary volunteer organisation ',\n",
       " 'he is the longest serving prime minister from outside the indian national congress ',\n",
       " 'modi was born and raised in vadnagar in northeastern gujarat  where he completed his secondary education ',\n",
       " 'he was introduced to the rss at the age of eight ',\n",
       " 'his account of helping his father sell tea at the vadnagar railway station has not been reliably corroborated ',\n",
       " 'at age     he was married to jashodaben modi  whom he abandoned soon after  only publicly acknowledging her four decades later when legally required to do so ',\n",
       " 'modi became a full time worker for the rss in gujarat in      ',\n",
       " 'the rss assigned him to the bjp in      and he held several positions within the party hierarchy until       rising to the rank of general secretary ']"
      ]
     },
     "execution_count": 17,
     "metadata": {},
     "output_type": "execute_result"
    }
   ],
   "source": [
    "corpus"
   ]
  },
  {
   "cell_type": "code",
   "execution_count": 18,
   "metadata": {},
   "outputs": [
    {
     "name": "stderr",
     "output_type": "stream",
     "text": [
      "[nltk_data] Downloading package stopwords to\n",
      "[nltk_data]     C:\\Users\\Strimmerz\\AppData\\Roaming\\nltk_data...\n",
      "[nltk_data]   Package stopwords is already up-to-date!\n"
     ]
    },
    {
     "data": {
      "text/plain": [
       "True"
      ]
     },
     "execution_count": 18,
     "metadata": {},
     "output_type": "execute_result"
    }
   ],
   "source": [
    "nltk.download('stopwords')"
   ]
  },
  {
   "cell_type": "code",
   "execution_count": 19,
   "metadata": {},
   "outputs": [
    {
     "data": {
      "text/plain": [
       "['i',\n",
       " 'me',\n",
       " 'my',\n",
       " 'myself',\n",
       " 'we',\n",
       " 'our',\n",
       " 'ours',\n",
       " 'ourselves',\n",
       " 'you',\n",
       " \"you're\",\n",
       " \"you've\",\n",
       " \"you'll\",\n",
       " \"you'd\",\n",
       " 'your',\n",
       " 'yours',\n",
       " 'yourself',\n",
       " 'yourselves',\n",
       " 'he',\n",
       " 'him',\n",
       " 'his',\n",
       " 'himself',\n",
       " 'she',\n",
       " \"she's\",\n",
       " 'her',\n",
       " 'hers',\n",
       " 'herself',\n",
       " 'it',\n",
       " \"it's\",\n",
       " 'its',\n",
       " 'itself',\n",
       " 'they',\n",
       " 'them',\n",
       " 'their',\n",
       " 'theirs',\n",
       " 'themselves',\n",
       " 'what',\n",
       " 'which',\n",
       " 'who',\n",
       " 'whom',\n",
       " 'this',\n",
       " 'that',\n",
       " \"that'll\",\n",
       " 'these',\n",
       " 'those',\n",
       " 'am',\n",
       " 'is',\n",
       " 'are',\n",
       " 'was',\n",
       " 'were',\n",
       " 'be',\n",
       " 'been',\n",
       " 'being',\n",
       " 'have',\n",
       " 'has',\n",
       " 'had',\n",
       " 'having',\n",
       " 'do',\n",
       " 'does',\n",
       " 'did',\n",
       " 'doing',\n",
       " 'a',\n",
       " 'an',\n",
       " 'the',\n",
       " 'and',\n",
       " 'but',\n",
       " 'if',\n",
       " 'or',\n",
       " 'because',\n",
       " 'as',\n",
       " 'until',\n",
       " 'while',\n",
       " 'of',\n",
       " 'at',\n",
       " 'by',\n",
       " 'for',\n",
       " 'with',\n",
       " 'about',\n",
       " 'against',\n",
       " 'between',\n",
       " 'into',\n",
       " 'through',\n",
       " 'during',\n",
       " 'before',\n",
       " 'after',\n",
       " 'above',\n",
       " 'below',\n",
       " 'to',\n",
       " 'from',\n",
       " 'up',\n",
       " 'down',\n",
       " 'in',\n",
       " 'out',\n",
       " 'on',\n",
       " 'off',\n",
       " 'over',\n",
       " 'under',\n",
       " 'again',\n",
       " 'further',\n",
       " 'then',\n",
       " 'once',\n",
       " 'here',\n",
       " 'there',\n",
       " 'when',\n",
       " 'where',\n",
       " 'why',\n",
       " 'how',\n",
       " 'all',\n",
       " 'any',\n",
       " 'both',\n",
       " 'each',\n",
       " 'few',\n",
       " 'more',\n",
       " 'most',\n",
       " 'other',\n",
       " 'some',\n",
       " 'such',\n",
       " 'no',\n",
       " 'nor',\n",
       " 'not',\n",
       " 'only',\n",
       " 'own',\n",
       " 'same',\n",
       " 'so',\n",
       " 'than',\n",
       " 'too',\n",
       " 'very',\n",
       " 's',\n",
       " 't',\n",
       " 'can',\n",
       " 'will',\n",
       " 'just',\n",
       " 'don',\n",
       " \"don't\",\n",
       " 'should',\n",
       " \"should've\",\n",
       " 'now',\n",
       " 'd',\n",
       " 'll',\n",
       " 'm',\n",
       " 'o',\n",
       " 're',\n",
       " 've',\n",
       " 'y',\n",
       " 'ain',\n",
       " 'aren',\n",
       " \"aren't\",\n",
       " 'couldn',\n",
       " \"couldn't\",\n",
       " 'didn',\n",
       " \"didn't\",\n",
       " 'doesn',\n",
       " \"doesn't\",\n",
       " 'hadn',\n",
       " \"hadn't\",\n",
       " 'hasn',\n",
       " \"hasn't\",\n",
       " 'haven',\n",
       " \"haven't\",\n",
       " 'isn',\n",
       " \"isn't\",\n",
       " 'ma',\n",
       " 'mightn',\n",
       " \"mightn't\",\n",
       " 'mustn',\n",
       " \"mustn't\",\n",
       " 'needn',\n",
       " \"needn't\",\n",
       " 'shan',\n",
       " \"shan't\",\n",
       " 'shouldn',\n",
       " \"shouldn't\",\n",
       " 'wasn',\n",
       " \"wasn't\",\n",
       " 'weren',\n",
       " \"weren't\",\n",
       " 'won',\n",
       " \"won't\",\n",
       " 'wouldn',\n",
       " \"wouldn't\"]"
      ]
     },
     "execution_count": 19,
     "metadata": {},
     "output_type": "execute_result"
    }
   ],
   "source": [
    "stopwords.words('english')"
   ]
  },
  {
   "cell_type": "code",
   "execution_count": 20,
   "metadata": {},
   "outputs": [
    {
     "name": "stdout",
     "output_type": "stream",
     "text": [
      "narendra\n",
      "damodarda\n",
      "modi\n",
      "gujarati\n",
      "[\n",
      "n\n",
      "end\n",
      "mod\n",
      "modi\n",
      "]\n",
      "born\n",
      "septemb\n",
      "[\n",
      "b\n",
      "]\n",
      "indian\n",
      "politician\n",
      "serv\n",
      "th\n",
      "prime\n",
      "minist\n",
      "india\n",
      "sinc\n",
      "may\n",
      "modi\n",
      "chief\n",
      "minist\n",
      "gujarat\n",
      "member\n",
      "parliament\n",
      "mp\n",
      "varanasi\n",
      "member\n",
      "bharatiya\n",
      "janata\n",
      "parti\n",
      "bjp\n",
      "rashtriya\n",
      "swayamsevak\n",
      "sangh\n",
      "rss\n",
      "right\n",
      "wing\n",
      "hindu\n",
      "nationalist\n",
      "paramilitari\n",
      "volunt\n",
      "organis\n",
      "longest\n",
      "serv\n",
      "prime\n",
      "minist\n",
      "outsid\n",
      "indian\n",
      "nation\n",
      "congress\n",
      "modi\n",
      "born\n",
      "rais\n",
      "vadnagar\n",
      "northeastern\n",
      "gujarat\n",
      "complet\n",
      "secondari\n",
      "educ\n",
      "introduc\n",
      "rss\n",
      "age\n",
      "eight\n",
      "account\n",
      "help\n",
      "father\n",
      "sell\n",
      "tea\n",
      "vadnagar\n",
      "railway\n",
      "station\n",
      "reliabl\n",
      "corrobor\n",
      "age\n",
      "marri\n",
      "jashodaben\n",
      "modi\n",
      "abandon\n",
      "soon\n",
      "publicli\n",
      "acknowledg\n",
      "four\n",
      "decad\n",
      "later\n",
      "legal\n",
      "requir\n",
      "modi\n",
      "becam\n",
      "full\n",
      "time\n",
      "worker\n",
      "rss\n",
      "gujarat\n",
      "rss\n",
      "assign\n",
      "bjp\n",
      "held\n",
      "sever\n",
      "posit\n",
      "within\n",
      "parti\n",
      "hierarchi\n",
      "rise\n",
      "rank\n",
      "gener\n",
      "secretari\n"
     ]
    }
   ],
   "source": [
    "##steamming\n",
    "for i in corpus:\n",
    "    words = nltk.word_tokenize(i)\n",
    "    for word in words:\n",
    "        if word not in set(stopwords.words('english')):\n",
    "            print(steam.stem(word))"
   ]
  },
  {
   "cell_type": "code",
   "execution_count": 21,
   "metadata": {},
   "outputs": [
    {
     "name": "stdout",
     "output_type": "stream",
     "text": [
      "narendra\n",
      "damodardas\n",
      "modi\n",
      "gujarati\n",
      "[\n",
      "n\n",
      "end\n",
      "mod\n",
      "modi\n",
      "]\n",
      "born\n",
      "september\n",
      "[\n",
      "b\n",
      "]\n",
      "indian\n",
      "politician\n",
      "served\n",
      "th\n",
      "prime\n",
      "minister\n",
      "india\n",
      "since\n",
      "may\n",
      "modi\n",
      "chief\n",
      "minister\n",
      "gujarat\n",
      "member\n",
      "parliament\n",
      "mp\n",
      "varanasi\n",
      "member\n",
      "bharatiya\n",
      "janata\n",
      "party\n",
      "bjp\n",
      "rashtriya\n",
      "swayamsevak\n",
      "sangh\n",
      "r\n",
      "right\n",
      "wing\n",
      "hindu\n",
      "nationalist\n",
      "paramilitary\n",
      "volunteer\n",
      "organisation\n",
      "longest\n",
      "serving\n",
      "prime\n",
      "minister\n",
      "outside\n",
      "indian\n",
      "national\n",
      "congress\n",
      "modi\n",
      "born\n",
      "raised\n",
      "vadnagar\n",
      "northeastern\n",
      "gujarat\n",
      "completed\n",
      "secondary\n",
      "education\n",
      "introduced\n",
      "r\n",
      "age\n",
      "eight\n",
      "account\n",
      "helping\n",
      "father\n",
      "sell\n",
      "tea\n",
      "vadnagar\n",
      "railway\n",
      "station\n",
      "reliably\n",
      "corroborated\n",
      "age\n",
      "married\n",
      "jashodaben\n",
      "modi\n",
      "abandoned\n",
      "soon\n",
      "publicly\n",
      "acknowledging\n",
      "four\n",
      "decade\n",
      "later\n",
      "legally\n",
      "required\n",
      "modi\n",
      "became\n",
      "full\n",
      "time\n",
      "worker\n",
      "r\n",
      "gujarat\n",
      "r\n",
      "assigned\n",
      "bjp\n",
      "held\n",
      "several\n",
      "position\n",
      "within\n",
      "party\n",
      "hierarchy\n",
      "rising\n",
      "rank\n",
      "general\n",
      "secretary\n"
     ]
    }
   ],
   "source": [
    "##Lemmatizer\n",
    "for i in corpus:\n",
    "    words = nltk.word_tokenize(i)\n",
    "    for word in words:\n",
    "        if word not in set(stopwords.words('english')):\n",
    "            print(lemmat.lemmatize(word))"
   ]
  },
  {
   "cell_type": "code",
   "execution_count": 22,
   "metadata": {},
   "outputs": [],
   "source": [
    "#Bag of words\n",
    "from sklearn.feature_extraction.text import CountVectorizer\n",
    "cv = CountVectorizer(binary=True, ngram_range=(3,3))"
   ]
  },
  {
   "cell_type": "code",
   "execution_count": 23,
   "metadata": {},
   "outputs": [],
   "source": [
    "x = cv.fit_transform(corpus)"
   ]
  },
  {
   "cell_type": "code",
   "execution_count": 24,
   "metadata": {},
   "outputs": [
    {
     "data": {
      "text/plain": [
       "<10x166 sparse matrix of type '<class 'numpy.int64'>'\n",
       "\twith 166 stored elements in Compressed Sparse Row format>"
      ]
     },
     "execution_count": 24,
     "metadata": {},
     "output_type": "execute_result"
    }
   ],
   "source": [
    "x"
   ]
  },
  {
   "cell_type": "code",
   "execution_count": 25,
   "metadata": {},
   "outputs": [
    {
     "data": {
      "text/plain": [
       "{'narendra damodardas modi': 86,\n",
       " 'damodardas modi gujarati': 25,\n",
       " 'modi gujarati end': 81,\n",
       " 'gujarati end mod': 36,\n",
       " 'end mod modi': 27,\n",
       " 'mod modi born': 78,\n",
       " 'modi born september': 80,\n",
       " 'born september is': 22,\n",
       " 'september is an': 121,\n",
       " 'is an indian': 63,\n",
       " 'an indian politician': 6,\n",
       " 'indian politician who': 61,\n",
       " 'politician who has': 103,\n",
       " 'who has served': 161,\n",
       " 'has served as': 38,\n",
       " 'served as the': 122,\n",
       " 'as the th': 11,\n",
       " 'the th prime': 143,\n",
       " 'th prime minister': 129,\n",
       " 'prime minister of': 106,\n",
       " 'minister of india': 77,\n",
       " 'of india since': 93,\n",
       " 'india since may': 59,\n",
       " 'modi was the': 83,\n",
       " 'was the chief': 158,\n",
       " 'the chief minister': 133,\n",
       " 'chief minister of': 23,\n",
       " 'minister of gujarat': 76,\n",
       " 'of gujarat from': 91,\n",
       " 'gujarat from to': 34,\n",
       " 'from to and': 32,\n",
       " 'to and is': 146,\n",
       " 'and is the': 8,\n",
       " 'is the member': 66,\n",
       " 'the member of': 136,\n",
       " 'member of parliament': 73,\n",
       " 'of parliament mp': 94,\n",
       " 'parliament mp for': 100,\n",
       " 'mp for varanasi': 85,\n",
       " 'he is member': 42,\n",
       " 'is member of': 64,\n",
       " 'member of the': 74,\n",
       " 'of the bharatiya': 95,\n",
       " 'the bharatiya janata': 131,\n",
       " 'bharatiya janata party': 18,\n",
       " 'janata party bjp': 67,\n",
       " 'party bjp and': 101,\n",
       " 'bjp and of': 19,\n",
       " 'and of the': 9,\n",
       " 'of the rashtriya': 96,\n",
       " 'the rashtriya swayamsevak': 139,\n",
       " 'rashtriya swayamsevak sangh': 111,\n",
       " 'swayamsevak sangh rss': 127,\n",
       " 'sangh rss right': 119,\n",
       " 'rss right wing': 118,\n",
       " 'right wing hindu': 113,\n",
       " 'wing hindu nationalist': 163,\n",
       " 'hindu nationalist paramilitary': 51,\n",
       " 'nationalist paramilitary volunteer': 87,\n",
       " 'paramilitary volunteer organisation': 99,\n",
       " 'he is the': 43,\n",
       " 'is the longest': 65,\n",
       " 'the longest serving': 135,\n",
       " 'longest serving prime': 71,\n",
       " 'serving prime minister': 123,\n",
       " 'prime minister from': 105,\n",
       " 'minister from outside': 75,\n",
       " 'from outside the': 31,\n",
       " 'outside the indian': 98,\n",
       " 'the indian national': 134,\n",
       " 'indian national congress': 60,\n",
       " 'modi was born': 82,\n",
       " 'was born and': 155,\n",
       " 'born and raised': 21,\n",
       " 'and raised in': 10,\n",
       " 'raised in vadnagar': 109,\n",
       " 'in vadnagar in': 58,\n",
       " 'vadnagar in northeastern': 153,\n",
       " 'in northeastern gujarat': 57,\n",
       " 'northeastern gujarat where': 88,\n",
       " 'gujarat where he': 35,\n",
       " 'where he completed': 160,\n",
       " 'he completed his': 40,\n",
       " 'completed his secondary': 24,\n",
       " 'his secondary education': 54,\n",
       " 'he was introduced': 44,\n",
       " 'was introduced to': 156,\n",
       " 'introduced to the': 62,\n",
       " 'to the rss': 151,\n",
       " 'the rss at': 141,\n",
       " 'rss at the': 116,\n",
       " 'at the age': 14,\n",
       " 'the age of': 130,\n",
       " 'age of eight': 5,\n",
       " 'his account of': 52,\n",
       " 'account of helping': 1,\n",
       " 'of helping his': 92,\n",
       " 'helping his father': 47,\n",
       " 'his father sell': 53,\n",
       " 'father sell tea': 28,\n",
       " 'sell tea at': 120,\n",
       " 'tea at the': 128,\n",
       " 'at the vadnagar': 15,\n",
       " 'the vadnagar railway': 144,\n",
       " 'vadnagar railway station': 154,\n",
       " 'railway station has': 108,\n",
       " 'station has not': 126,\n",
       " 'has not been': 37,\n",
       " 'not been reliably': 89,\n",
       " 'been reliably corroborated': 17,\n",
       " 'at age he': 13,\n",
       " 'age he was': 4,\n",
       " 'he was married': 45,\n",
       " 'was married to': 157,\n",
       " 'married to jashodaben': 72,\n",
       " 'to jashodaben modi': 148,\n",
       " 'jashodaben modi whom': 68,\n",
       " 'modi whom he': 84,\n",
       " 'whom he abandoned': 162,\n",
       " 'he abandoned soon': 39,\n",
       " 'abandoned soon after': 0,\n",
       " 'soon after only': 125,\n",
       " 'after only publicly': 3,\n",
       " 'only publicly acknowledging': 97,\n",
       " 'publicly acknowledging her': 107,\n",
       " 'acknowledging her four': 2,\n",
       " 'her four decades': 48,\n",
       " 'four decades later': 30,\n",
       " 'decades later when': 26,\n",
       " 'later when legally': 69,\n",
       " 'when legally required': 159,\n",
       " 'legally required to': 70,\n",
       " 'required to do': 112,\n",
       " 'to do so': 147,\n",
       " 'modi became full': 79,\n",
       " 'became full time': 16,\n",
       " 'full time worker': 33,\n",
       " 'time worker for': 145,\n",
       " 'worker for the': 165,\n",
       " 'for the rss': 29,\n",
       " 'the rss in': 142,\n",
       " 'rss in gujarat': 117,\n",
       " 'in gujarat in': 56,\n",
       " 'the rss assigned': 140,\n",
       " 'rss assigned him': 115,\n",
       " 'assigned him to': 12,\n",
       " 'him to the': 50,\n",
       " 'to the bjp': 149,\n",
       " 'the bjp in': 132,\n",
       " 'bjp in and': 20,\n",
       " 'in and he': 55,\n",
       " 'and he held': 7,\n",
       " 'he held several': 41,\n",
       " 'held several positions': 46,\n",
       " 'several positions within': 124,\n",
       " 'positions within the': 104,\n",
       " 'within the party': 164,\n",
       " 'the party hierarchy': 137,\n",
       " 'party hierarchy until': 102,\n",
       " 'hierarchy until rising': 49,\n",
       " 'until rising to': 152,\n",
       " 'rising to the': 114,\n",
       " 'to the rank': 150,\n",
       " 'the rank of': 138,\n",
       " 'rank of general': 110,\n",
       " 'of general secretary': 90}"
      ]
     },
     "execution_count": 25,
     "metadata": {},
     "output_type": "execute_result"
    }
   ],
   "source": [
    "cv.vocabulary_"
   ]
  },
  {
   "cell_type": "code",
   "execution_count": 26,
   "metadata": {},
   "outputs": [
    {
     "data": {
      "text/plain": [
       "'narendra damodardas modi  gujarati  [ n  end   d mod   d s  modi ]    born    september      [b] is an indian politician who has served as the   th prime minister of india since may      '"
      ]
     },
     "execution_count": 26,
     "metadata": {},
     "output_type": "execute_result"
    }
   ],
   "source": [
    "corpus[0]"
   ]
  },
  {
   "cell_type": "code",
   "execution_count": 27,
   "metadata": {},
   "outputs": [
    {
     "data": {
      "text/plain": [
       "array([[0, 0, 0, 0, 0, 0, 1, 0, 0, 0, 0, 1, 0, 0, 0, 0, 0, 0, 0, 0, 0, 0,\n",
       "        1, 0, 0, 1, 0, 1, 0, 0, 0, 0, 0, 0, 0, 0, 1, 0, 1, 0, 0, 0, 0, 0,\n",
       "        0, 0, 0, 0, 0, 0, 0, 0, 0, 0, 0, 0, 0, 0, 0, 1, 0, 1, 0, 1, 0, 0,\n",
       "        0, 0, 0, 0, 0, 0, 0, 0, 0, 0, 0, 1, 1, 0, 1, 1, 0, 0, 0, 0, 1, 0,\n",
       "        0, 0, 0, 0, 0, 1, 0, 0, 0, 0, 0, 0, 0, 0, 0, 1, 0, 0, 1, 0, 0, 0,\n",
       "        0, 0, 0, 0, 0, 0, 0, 0, 0, 0, 0, 1, 1, 0, 0, 0, 0, 0, 0, 1, 0, 0,\n",
       "        0, 0, 0, 0, 0, 0, 0, 0, 0, 0, 0, 1, 0, 0, 0, 0, 0, 0, 0, 0, 0, 0,\n",
       "        0, 0, 0, 0, 0, 0, 0, 1, 0, 0, 0, 0]], dtype=int64)"
      ]
     },
     "execution_count": 27,
     "metadata": {},
     "output_type": "execute_result"
    }
   ],
   "source": [
    "x[0].toarray()"
   ]
  },
  {
   "cell_type": "code",
   "execution_count": 28,
   "metadata": {},
   "outputs": [],
   "source": [
    "##Applying Stopwords lemmatize\n",
    "\n",
    "corpus=[]\n",
    "for i in range(len(sen)):\n",
    "    review = re.sub('[^a-zA-Z]',' ', sen[i])\n",
    "    review = review.lower()\n",
    "    review = review.split()\n",
    "    review = [lemmat.lemmatize(word) for word in review if not word in set(stopwords.words('english'))]\n",
    "    review = ' '.join(review)\n",
    "    corpus.append(review)"
   ]
  },
  {
   "cell_type": "code",
   "execution_count": 29,
   "metadata": {},
   "outputs": [],
   "source": [
    "x = cv.fit_transform(corpus)"
   ]
  },
  {
   "cell_type": "code",
   "execution_count": 30,
   "metadata": {},
   "outputs": [
    {
     "data": {
      "text/plain": [
       "<10x82 sparse matrix of type '<class 'numpy.int64'>'\n",
       "\twith 82 stored elements in Compressed Sparse Row format>"
      ]
     },
     "execution_count": 30,
     "metadata": {},
     "output_type": "execute_result"
    }
   ],
   "source": [
    "x"
   ]
  },
  {
   "cell_type": "code",
   "execution_count": 31,
   "metadata": {},
   "outputs": [
    {
     "data": {
      "text/plain": [
       "{'narendra damodardas modi': 47,\n",
       " 'damodardas modi gujarati': 13,\n",
       " 'modi gujarati end': 46,\n",
       " 'gujarati end mod': 21,\n",
       " 'end mod modi': 15,\n",
       " 'mod modi born': 40,\n",
       " 'modi born september': 44,\n",
       " 'born september indian': 10,\n",
       " 'september indian politician': 68,\n",
       " 'indian politician served': 28,\n",
       " 'politician served th': 55,\n",
       " 'served th prime': 69,\n",
       " 'th prime minister': 76,\n",
       " 'prime minister india': 57,\n",
       " 'minister india since': 38,\n",
       " 'india since may': 26,\n",
       " 'modi chief minister': 45,\n",
       " 'chief minister gujarat': 11,\n",
       " 'minister gujarat member': 37,\n",
       " 'gujarat member parliament': 20,\n",
       " 'member parliament mp': 36,\n",
       " 'parliament mp varanasi': 52,\n",
       " 'member bharatiya janata': 35,\n",
       " 'bharatiya janata party': 6,\n",
       " 'janata party bjp': 30,\n",
       " 'party bjp rashtriya': 53,\n",
       " 'bjp rashtriya swayamsevak': 8,\n",
       " 'rashtriya swayamsevak sangh': 63,\n",
       " 'swayamsevak sangh right': 74,\n",
       " 'sangh right wing': 66,\n",
       " 'right wing hindu': 64,\n",
       " 'wing hindu nationalist': 80,\n",
       " 'hindu nationalist paramilitary': 25,\n",
       " 'nationalist paramilitary volunteer': 48,\n",
       " 'paramilitary volunteer organisation': 51,\n",
       " 'longest serving prime': 33,\n",
       " 'serving prime minister': 70,\n",
       " 'prime minister outside': 58,\n",
       " 'minister outside indian': 39,\n",
       " 'outside indian national': 50,\n",
       " 'indian national congress': 27,\n",
       " 'modi born raised': 43,\n",
       " 'born raised vadnagar': 9,\n",
       " 'raised vadnagar northeastern': 61,\n",
       " 'vadnagar northeastern gujarat': 78,\n",
       " 'northeastern gujarat completed': 49,\n",
       " 'gujarat completed secondary': 19,\n",
       " 'completed secondary education': 12,\n",
       " 'introduced age eight': 29,\n",
       " 'account helping father': 1,\n",
       " 'helping father sell': 23,\n",
       " 'father sell tea': 16,\n",
       " 'sell tea vadnagar': 67,\n",
       " 'tea vadnagar railway': 75,\n",
       " 'vadnagar railway station': 79,\n",
       " 'railway station reliably': 60,\n",
       " 'station reliably corroborated': 73,\n",
       " 'age married jashodaben': 3,\n",
       " 'married jashodaben modi': 34,\n",
       " 'jashodaben modi abandoned': 31,\n",
       " 'modi abandoned soon': 41,\n",
       " 'abandoned soon publicly': 0,\n",
       " 'soon publicly acknowledging': 72,\n",
       " 'publicly acknowledging four': 59,\n",
       " 'acknowledging four decade': 2,\n",
       " 'four decade later': 17,\n",
       " 'decade later legally': 14,\n",
       " 'later legally required': 32,\n",
       " 'modi became full': 42,\n",
       " 'became full time': 5,\n",
       " 'full time worker': 18,\n",
       " 'time worker gujarat': 77,\n",
       " 'assigned bjp held': 4,\n",
       " 'bjp held several': 7,\n",
       " 'held several position': 22,\n",
       " 'several position within': 71,\n",
       " 'position within party': 56,\n",
       " 'within party hierarchy': 81,\n",
       " 'party hierarchy rising': 54,\n",
       " 'hierarchy rising rank': 24,\n",
       " 'rising rank general': 65,\n",
       " 'rank general secretary': 62}"
      ]
     },
     "execution_count": 31,
     "metadata": {},
     "output_type": "execute_result"
    }
   ],
   "source": [
    "cv.vocabulary_"
   ]
  },
  {
   "cell_type": "code",
   "execution_count": 32,
   "metadata": {},
   "outputs": [
    {
     "data": {
      "text/plain": [
       "array([[0, 0, 0, 0, 0, 0, 0, 0, 0, 0, 1, 0, 0, 1, 0, 1, 0, 0, 0, 0, 0, 1,\n",
       "        0, 0, 0, 0, 1, 0, 1, 0, 0, 0, 0, 0, 0, 0, 0, 0, 1, 0, 1, 0, 0, 0,\n",
       "        1, 0, 1, 1, 0, 0, 0, 0, 0, 0, 0, 1, 0, 1, 0, 0, 0, 0, 0, 0, 0, 0,\n",
       "        0, 0, 1, 1, 0, 0, 0, 0, 0, 0, 1, 0, 0, 0, 0, 0]], dtype=int64)"
      ]
     },
     "execution_count": 32,
     "metadata": {},
     "output_type": "execute_result"
    }
   ],
   "source": [
    "x[0].toarray()"
   ]
  },
  {
   "cell_type": "markdown",
   "metadata": {},
   "source": [
    "TF - IDF --- Term Frequency - Inverse Document Frequency"
   ]
  },
  {
   "cell_type": "code",
   "execution_count": 53,
   "metadata": {},
   "outputs": [
    {
     "name": "stdout",
     "output_type": "stream",
     "text": [
      "  (0, 5)\t0.36589482798903955\n",
      "  (0, 8)\t0.4182219977592325\n",
      "  (0, 3)\t0.4182219977592325\n",
      "  (0, 1)\t0.4182219977592325\n",
      "  (0, 6)\t0.5842876488697163\n"
     ]
    }
   ],
   "source": [
    "#TF_IDF\n",
    "from sklearn.feature_extraction.text import TfidfVectorizer\n",
    "cv = TfidfVectorizer(ngram_range=(1,1), max_features=10)\n",
    "X = cv.fit_transform(corpus)\n",
    "X\n",
    "print(X[0])"
   ]
  },
  {
   "cell_type": "code",
   "execution_count": 54,
   "metadata": {},
   "outputs": [
    {
     "name": "stdout",
     "output_type": "stream",
     "text": [
      "124\n"
     ]
    },
    {
     "data": {
      "text/plain": [
       "'narendra damodardas modi gujarati n end mod modi born september b indian politician served th prime minister india since may'"
      ]
     },
     "execution_count": 54,
     "metadata": {},
     "output_type": "execute_result"
    }
   ],
   "source": [
    "print(len(corpus[0]))\n",
    "corpus[0]"
   ]
  },
  {
   "cell_type": "code",
   "execution_count": 55,
   "metadata": {},
   "outputs": [
    {
     "data": {
      "text/plain": [
       "<1x10 sparse matrix of type '<class 'numpy.float64'>'\n",
       "\twith 5 stored elements in Compressed Sparse Row format>"
      ]
     },
     "execution_count": 55,
     "metadata": {},
     "output_type": "execute_result"
    }
   ],
   "source": [
    "X[0]"
   ]
  },
  {
   "cell_type": "code",
   "execution_count": 56,
   "metadata": {},
   "outputs": [
    {
     "data": {
      "text/plain": [
       "array([[0.        , 0.418222  , 0.        , 0.418222  , 0.        ,\n",
       "        0.36589483, 0.58428765, 0.        , 0.418222  , 0.        ]])"
      ]
     },
     "execution_count": 56,
     "metadata": {},
     "output_type": "execute_result"
    }
   ],
   "source": [
    "X[0].toarray()"
   ]
  },
  {
   "cell_type": "code",
   "execution_count": null,
   "metadata": {},
   "outputs": [],
   "source": []
  },
  {
   "cell_type": "code",
   "execution_count": null,
   "metadata": {},
   "outputs": [],
   "source": []
  }
 ],
 "metadata": {
  "kernelspec": {
   "display_name": "base",
   "language": "python",
   "name": "python3"
  },
  "language_info": {
   "codemirror_mode": {
    "name": "ipython",
    "version": 3
   },
   "file_extension": ".py",
   "mimetype": "text/x-python",
   "name": "python",
   "nbconvert_exporter": "python",
   "pygments_lexer": "ipython3",
   "version": "3.11.7"
  }
 },
 "nbformat": 4,
 "nbformat_minor": 2
}
